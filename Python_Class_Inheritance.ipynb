{
  "nbformat": 4,
  "nbformat_minor": 0,
  "metadata": {
    "colab": {
      "provenance": [],
      "authorship_tag": "ABX9TyM+aut6XVzEp4tTJtkcTMXB",
      "include_colab_link": true
    },
    "kernelspec": {
      "name": "python3",
      "display_name": "Python 3"
    },
    "language_info": {
      "name": "python"
    }
  },
  "cells": [
    {
      "cell_type": "markdown",
      "metadata": {
        "id": "view-in-github",
        "colab_type": "text"
      },
      "source": [
        "<a href=\"https://colab.research.google.com/github/shanthivijayan/Python_Code/blob/main/Python_Class_Inheritance.ipynb\" target=\"_parent\"><img src=\"https://colab.research.google.com/assets/colab-badge.svg\" alt=\"Open In Colab\"/></a>"
      ]
    },
    {
      "cell_type": "markdown",
      "source": [
        "All classes have a function called __init__(), which is **always executed** when the class is being initiated.\n",
        "\n",
        "Use the __init__() function **to assign values to object properties**,"
      ],
      "metadata": {
        "id": "7LcAdV79Fz-c"
      }
    },
    {
      "cell_type": "code",
      "execution_count": 12,
      "metadata": {
        "colab": {
          "base_uri": "https://localhost:8080/"
        },
        "id": "o-XjalF15fEX",
        "outputId": "8b004fc5-5a6f-4b01-9a56-2e271ed8c272"
      },
      "outputs": [
        {
          "output_type": "stream",
          "name": "stdout",
          "text": [
            "Inside class Tarun\n",
            "Hello Tarun\n"
          ]
        }
      ],
      "source": [
        "class person1:\n",
        "  def __init__(self,name):\n",
        "    self.name= name\n",
        "\n",
        "  def hello(self):\n",
        "    print(\"Inside class\",self.name)\n",
        "\n",
        "obj=person1(\"Tarun\")\n",
        "obj.hello()\n",
        "print(\"Hello\",obj.name)\n",
        "\n",
        "\n",
        "\n"
      ]
    },
    {
      "cell_type": "markdown",
      "source": [
        "The self Parameter\n",
        "The **self parameter** is a reference to the **current instance of the class**, and is used to access variables that belongs to the class."
      ],
      "metadata": {
        "id": "ypqLJ18SGHS_"
      }
    },
    {
      "cell_type": "code",
      "source": [
        "class Person:\n",
        "  def __init__(self, name, age):\n",
        "    self.name = name\n",
        "    self.age = age\n",
        "\n",
        "p1 = Person(\"John\", 36)\n",
        "\n",
        "print(p1.name)\n",
        "print(p1.age)"
      ],
      "metadata": {
        "colab": {
          "base_uri": "https://localhost:8080/"
        },
        "id": "NkTbc9EGDMX8",
        "outputId": "c8f0be35-4fa1-44d4-c339-6f046f1cb9cd"
      },
      "execution_count": 13,
      "outputs": [
        {
          "output_type": "stream",
          "name": "stdout",
          "text": [
            "John\n",
            "36\n"
          ]
        }
      ]
    },
    {
      "cell_type": "markdown",
      "source": [
        "he __str__() Function\n",
        "The __str__() function controls what should be returned when the class object is represented as a string."
      ],
      "metadata": {
        "id": "Lyin8D1RFEjS"
      }
    },
    {
      "cell_type": "code",
      "source": [
        "#without __str__(selft)\n",
        "class Person:\n",
        "  def __init__(self, name, age):\n",
        "    self.name = name\n",
        "    self.age = age\n",
        "\n",
        "p1 = Person(\"John\", 36)\n",
        "\n",
        "print(p1)"
      ],
      "metadata": {
        "colab": {
          "base_uri": "https://localhost:8080/"
        },
        "id": "nJ4tIcSZE_Hm",
        "outputId": "e7d352bc-94cd-4a28-a4e7-b7a77a7d94b0"
      },
      "execution_count": 14,
      "outputs": [
        {
          "output_type": "stream",
          "name": "stdout",
          "text": [
            "<__main__.Person object at 0x7a153ab20b20>\n"
          ]
        }
      ]
    },
    {
      "cell_type": "code",
      "source": [],
      "metadata": {
        "id": "G6MDACdbGcuo"
      },
      "execution_count": null,
      "outputs": []
    },
    {
      "cell_type": "code",
      "source": [
        "class Person:\n",
        "  def __init__(self, name, age):\n",
        "    self.name = name\n",
        "    self.age = age\n",
        "\n",
        "  def __str__(self):\n",
        "    return f\"{self.name}({self.age})\"\n",
        "\n",
        "p1 = Person(\"John\", 36)\n",
        "\n",
        "print(p1)\n"
      ],
      "metadata": {
        "colab": {
          "base_uri": "https://localhost:8080/"
        },
        "id": "orua1LlOFb8P",
        "outputId": "c13fcb63-124b-4e18-f277-b05ee93af3a1"
      },
      "execution_count": 15,
      "outputs": [
        {
          "output_type": "stream",
          "name": "stdout",
          "text": [
            "John(36)\n"
          ]
        }
      ]
    },
    {
      "cell_type": "markdown",
      "source": [
        "Delete Object Properties\n",
        "You can delete properties on objects by using the **del** keyword:\n",
        "del p1.age"
      ],
      "metadata": {
        "id": "j3gArK4hGkum"
      }
    },
    {
      "cell_type": "code",
      "source": [
        "class Person:\n",
        "  def __init__(self, name, age):\n",
        "    self.name = name\n",
        "    self.age = age\n",
        "\n",
        "  def myfunc(self):\n",
        "    print(\"Hello my name is \" + self.name)\n",
        "\n",
        "p1 = Person(\"John\", 36)\n",
        "\n",
        "del p1.age\n",
        "\n",
        "print(p1.age)\n"
      ],
      "metadata": {
        "colab": {
          "base_uri": "https://localhost:8080/",
          "height": 176
        },
        "id": "kF9K53VAGfB_",
        "outputId": "f7e42402-d9d6-461f-fffc-b9ef29c88ed4"
      },
      "execution_count": 16,
      "outputs": [
        {
          "output_type": "error",
          "ename": "AttributeError",
          "evalue": "'Person' object has no attribute 'age'",
          "traceback": [
            "\u001b[0;31m---------------------------------------------------------------------------\u001b[0m",
            "\u001b[0;31mAttributeError\u001b[0m                            Traceback (most recent call last)",
            "\u001b[0;32m<ipython-input-16-46454e0e6825>\u001b[0m in \u001b[0;36m<cell line: 13>\u001b[0;34m()\u001b[0m\n\u001b[1;32m     11\u001b[0m \u001b[0;32mdel\u001b[0m \u001b[0mp1\u001b[0m\u001b[0;34m.\u001b[0m\u001b[0mage\u001b[0m\u001b[0;34m\u001b[0m\u001b[0;34m\u001b[0m\u001b[0m\n\u001b[1;32m     12\u001b[0m \u001b[0;34m\u001b[0m\u001b[0m\n\u001b[0;32m---> 13\u001b[0;31m \u001b[0mprint\u001b[0m\u001b[0;34m(\u001b[0m\u001b[0mp1\u001b[0m\u001b[0;34m.\u001b[0m\u001b[0mage\u001b[0m\u001b[0;34m)\u001b[0m\u001b[0;34m\u001b[0m\u001b[0;34m\u001b[0m\u001b[0m\n\u001b[0m",
            "\u001b[0;31mAttributeError\u001b[0m: 'Person' object has no attribute 'age'"
          ]
        }
      ]
    },
    {
      "cell_type": "markdown",
      "source": [
        "**Python Inheritance**\n",
        "Inheritance allows us to define a class that **inherits all the methods and properties from another class.**\n",
        "\n",
        "Parent class is the class being inherited from, also called base class.\n",
        "\n",
        "Child class is the class that inherits from another class, also called derived class."
      ],
      "metadata": {
        "id": "0kZ23HsFHP9P"
      }
    },
    {
      "cell_type": "code",
      "source": [
        "class Person:\n",
        "  def __init__(self, fname, lname):\n",
        "    self.firstname = fname\n",
        "    self.lastname = lname\n",
        "\n",
        "  def printname(self):\n",
        "    print(self.firstname, self.lastname)\n",
        "\n",
        "#Use the Person class to create an object, and then execute the printname method:\n",
        "\n",
        "x = Person(\"John\", \"Doe\")\n",
        "x.printname()"
      ],
      "metadata": {
        "colab": {
          "base_uri": "https://localhost:8080/"
        },
        "id": "YZ9pIStiHWzm",
        "outputId": "084ff955-4d3c-49bb-c9a5-df28d52735ef"
      },
      "execution_count": 17,
      "outputs": [
        {
          "output_type": "stream",
          "name": "stdout",
          "text": [
            "John Doe\n"
          ]
        }
      ]
    },
    {
      "cell_type": "markdown",
      "source": [
        "**Create a Child Class**\n",
        "To create a class that inherits the functionality from another class,** send the parent class as a parameter** when creating the child class:"
      ],
      "metadata": {
        "id": "V7FJP9b7HiQ1"
      }
    },
    {
      "cell_type": "code",
      "source": [
        "class Student(Person):\n",
        "  pass"
      ],
      "metadata": {
        "id": "VrnSOMflHsa6"
      },
      "execution_count": 18,
      "outputs": []
    },
    {
      "cell_type": "code",
      "source": [
        "x = Student(\"Mike\", \"Olsen\")\n",
        "x.printname()"
      ],
      "metadata": {
        "colab": {
          "base_uri": "https://localhost:8080/"
        },
        "id": "xFDuuhVHH7jf",
        "outputId": "e5cf1f30-069c-49d5-ba7e-c6fd357836d0"
      },
      "execution_count": 19,
      "outputs": [
        {
          "output_type": "stream",
          "name": "stdout",
          "text": [
            "Mike Olsen\n"
          ]
        }
      ]
    },
    {
      "cell_type": "markdown",
      "source": [
        "When you add the __init__() function, the child class will no longer inherit the parent's __init__() function.\n",
        "\n",
        "Note: The child's __init__() function overrides the inheritance of the parent's __init__() function.\n",
        "\n",
        "To keep the inheritance of the parent's __init__() function, add a call to the parent's __init__() function:"
      ],
      "metadata": {
        "id": "WPzt_26UIKg-"
      }
    },
    {
      "cell_type": "code",
      "source": [
        "class Student(Person):\n",
        "  def __init__(self, fname, lname):\n",
        "    Person.__init__(self, fname, lname)"
      ],
      "metadata": {
        "id": "L63miVBSILc5"
      },
      "execution_count": 20,
      "outputs": []
    },
    {
      "cell_type": "markdown",
      "source": [
        "Use the super() Function\n",
        "Python also has a **super() function that will make the child class inherit all the methods and properties** from its parent:"
      ],
      "metadata": {
        "id": "8tS_7FroIVKt"
      }
    },
    {
      "cell_type": "code",
      "source": [
        "class Student(Person):\n",
        "  def __init__(self, fname, lname):\n",
        "    super().__init__(fname, lname)"
      ],
      "metadata": {
        "id": "v3l8FRHvIbyi"
      },
      "execution_count": 21,
      "outputs": []
    },
    {
      "cell_type": "code",
      "source": [
        "class Student(Person):\n",
        "  def __init__(self, fname, lname, year):\n",
        "    super().__init__(fname, lname)\n",
        "    self.graduationyear = year\n",
        "\n",
        "x = Student(\"Mike\", \"Olsen\", 2019)"
      ],
      "metadata": {
        "id": "psjtndprIzCr"
      },
      "execution_count": 22,
      "outputs": []
    },
    {
      "cell_type": "code",
      "source": [
        "class Student(Person):\n",
        "  def __init__(self, fname, lname, year):\n",
        "    super().__init__(fname, lname)\n",
        "    self.graduationyear = year\n",
        "\n",
        "  def welcome(self):\n",
        "    print(\"Welcome\", self.firstname, self.lastname, \"to the class of\", self.graduationyear)\n",
        "x = Student(\"Mike\", \"Olsen\", 2019)\n",
        "x.welcome()"
      ],
      "metadata": {
        "colab": {
          "base_uri": "https://localhost:8080/"
        },
        "id": "jc1-xCWUI4lD",
        "outputId": "822e0fd6-f3b4-4702-8359-b7cbfabc9652"
      },
      "execution_count": 29,
      "outputs": [
        {
          "output_type": "stream",
          "name": "stdout",
          "text": [
            "Welcome Mike Olsen to the class of 2019\n"
          ]
        }
      ]
    }
  ]
}