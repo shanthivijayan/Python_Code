{
  "nbformat": 4,
  "nbformat_minor": 0,
  "metadata": {
    "colab": {
      "provenance": [],
      "authorship_tag": "ABX9TyOe20p3uM3Q8lW3h+1WLRGD",
      "include_colab_link": true
    },
    "kernelspec": {
      "name": "python3",
      "display_name": "Python 3"
    },
    "language_info": {
      "name": "python"
    }
  },
  "cells": [
    {
      "cell_type": "markdown",
      "metadata": {
        "id": "view-in-github",
        "colab_type": "text"
      },
      "source": [
        "<a href=\"https://colab.research.google.com/github/shanthivijayan/Python_Code/blob/main/Python_2D_Numpy.ipynb\" target=\"_parent\"><img src=\"https://colab.research.google.com/assets/colab-badge.svg\" alt=\"Open In Colab\"/></a>"
      ]
    },
    {
      "cell_type": "code",
      "execution_count": 26,
      "metadata": {
        "colab": {
          "base_uri": "https://localhost:8080/"
        },
        "id": "cgIFnT6UtOhE",
        "outputId": "c69640e4-27e2-4ee3-a6b2-ffd391efb34e"
      },
      "outputs": [
        {
          "output_type": "stream",
          "name": "stdout",
          "text": [
            "[[11 12 13]\n",
            " [21 22 23]\n",
            " [31 32 33]]\n",
            "dimension 2\n",
            "Shape (3, 3)\n",
            "Size 9\n",
            "23\n",
            "23\n",
            "Addition [[3 1]\n",
            " [1 3]]\n",
            " 2 * Y [[4 2]\n",
            " [2 4]]\n",
            "x*y [[2 0]\n",
            " [0 2]]\n",
            "np.dot(A,B) [[0 2]\n",
            " [0 2]]\n",
            "np.sin(Z) [[0.         0.90929743]\n",
            " [0.         0.90929743]]\n",
            "[[1 1]\n",
            " [1 1]]\n",
            "0\n",
            "[[2 2]\n",
            " [2 2]]\n"
          ]
        }
      ],
      "source": [
        "# Import the libraries\n",
        "\n",
        "import numpy as np\n",
        "# Create a list\n",
        "\n",
        "a = [[11, 12, 13], [21, 22, 23], [31, 32, 33]]\n",
        "a\n",
        "# Convert list to Numpy Array\n",
        "# Every element is the same type\n",
        "\n",
        "A = np.array(a)\n",
        "print(A)\n",
        "# Show the numpy array dimensions(Number of axes or dimensions)\n",
        "\n",
        "print(\"dimension\",A.ndim)\n",
        "# Show the numpy array shape(number of each dimension)(rows and column)\n",
        "\n",
        "print(\"Shape\",A.shape)\n",
        "# Show the numpy array size(total number of elements in the array)\n",
        "\n",
        "print(\"Size\",A.size)\n",
        "# Access the element on the second row and third column\n",
        "\n",
        "print(A[1, 2])\n",
        "# Access the element on the second row and third column\n",
        "\n",
        "print(A[1][2])\n",
        "# Access the element on the first row and first and second columns\n",
        "\n",
        "A[0][0:2]\n",
        "# Access the element on the first and second rows and third column\n",
        "\n",
        "A[0:2, 2]\n",
        " #Create a numpy array X\n",
        "\n",
        "X = np.array([[1, 0], [0, 1]])\n",
        "X\n",
        "# Create a numpy array Y\n",
        "\n",
        "Y = np.array([[2, 1], [1, 2]])\n",
        "Y\n",
        "# Add X and Y\n",
        "\n",
        "Z = X + Y\n",
        "print(\"Addition\",Z)\n",
        "# Multiply Y with 2\n",
        "\n",
        "Z = 2 * Y\n",
        "print(\" 2 * Y\",Z)\n",
        "# Multiply X with Y\n",
        "\n",
        "Z = X * Y\n",
        "print(\"x*y\",Z)\n",
        "# Create a matrix A\n",
        "\n",
        "A = np.array([[0, 1, 1], [1, 0, 1]])\n",
        "A\n",
        "# Create a matrix B\n",
        "\n",
        "B = np.array([[1, 1], [1, 1], [-1, 1]])\n",
        "B\n",
        "# Calculate the dot product\n",
        "\n",
        "Z = np.dot(A,B)\n",
        "print(\"np.dot(A,B)\",Z)\n",
        "# Calculate the sine of Z\n",
        "\n",
        "print(\"np.sin(Z)\",np.sin(Z))\n",
        "#We use the numpy attribute T to calculate the transposed matrix\n",
        "# Create a matrix C\n",
        "\n",
        "C = np.array([[1,1],[2,2],[3,3]])\n",
        "C\n",
        "# Get the transposed of C\n",
        "\n",
        "C.T\n",
        "X=np.array([[1,0],[0,1]])\n",
        "Y=np.array([[0,1],[1,0]])\n",
        "Z=X+Y\n",
        "print(Z)\n",
        "a=np.array([0,1])\n",
        "b=np.array([1,0])\n",
        "print(np.dot(a,b))\n",
        "X=np.array([[1,0],[0,1]])\n",
        "Y=np.array([[2,2],[2,2]])\n",
        "Z=np.dot(X,Y)\n",
        "print(Z)\n"
      ]
    },
    {
      "cell_type": "code",
      "source": [],
      "metadata": {
        "id": "APg-J0GLwpVg"
      },
      "execution_count": null,
      "outputs": []
    }
  ]
}