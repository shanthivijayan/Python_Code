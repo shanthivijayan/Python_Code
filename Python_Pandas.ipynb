{
  "nbformat": 4,
  "nbformat_minor": 0,
  "metadata": {
    "colab": {
      "provenance": [],
      "authorship_tag": "ABX9TyPxtx0615zYGLQPwXOHy1DT",
      "include_colab_link": true
    },
    "kernelspec": {
      "name": "python3",
      "display_name": "Python 3"
    },
    "language_info": {
      "name": "python"
    }
  },
  "cells": [
    {
      "cell_type": "markdown",
      "metadata": {
        "id": "view-in-github",
        "colab_type": "text"
      },
      "source": [
        "<a href=\"https://colab.research.google.com/github/shanthivijayan/Python_Code/blob/main/Python_Pandas.ipynb\" target=\"_parent\"><img src=\"https://colab.research.google.com/assets/colab-badge.svg\" alt=\"Open In Colab\"/></a>"
      ]
    },
    {
      "cell_type": "code",
      "execution_count": 15,
      "metadata": {
        "colab": {
          "base_uri": "https://localhost:8080/"
        },
        "id": "GpHSexbzgNJk",
        "outputId": "78c593ab-e77f-4f88-c3c9-787d2bb6362b"
      },
      "outputs": [
        {
          "output_type": "execute_result",
          "data": {
            "text/plain": [
              "50000"
            ]
          },
          "metadata": {},
          "execution_count": 15
        }
      ],
      "source": [
        "import pandas as pd\n",
        "#Define a dictionary 'x'\n",
        "\n",
        "x = {'Name': ['Rose','John', 'Jane', 'Mary'], 'ID': [1, 2, 3, 4], 'Department': ['Architect Group', 'Software Group', 'Design Team', 'Infrastructure'],\n",
        "      'Salary':[100000, 80000, 50000, 60000]}\n",
        "\n",
        "#casting the dictionary to a DataFrame\n",
        "df = pd.DataFrame(x)\n",
        "\n",
        "#display the result df\n",
        "df\n",
        "#Retrieving the \"ID\" column and assigning it to a variable x\n",
        "x = df[['ID']]\n",
        "x\n",
        "#check the type of x\n",
        "type(x)\n",
        "#Retrieving the Department, Salary and ID columns and assigning it to a variable z\n",
        "\n",
        "z = df[['Department','Salary','ID']]\n",
        "z\n",
        "#To view the column as a series, just use one bracket\n",
        "# Get the Student column as a series Object\n",
        "\n",
        "x = df['Department']\n",
        "x\n",
        "type(x)\n",
        "#iloc(indexing by integers)-iloc[row_index, column_index] and loc(Indexing by labels)-loc[row_label, column_label]\n",
        "# Access the value on the first row and the first column\n",
        "df.iloc[0, 0]\n",
        "# Access the value on the first row and the third column\n",
        "\n",
        "df.iloc[0,2]\n",
        "# Access the column using the name\n",
        "#set_index\n",
        "df.loc[0, 'Salary']\n",
        "df2=df\n",
        "df2=df2.set_index(\"Name\")\n",
        "#To display the first 5 rows of new dataframe\n",
        "df2.head()\n",
        "#Now, let us access the column using the name\n",
        "df2.loc['Jane', 'Salary']\n",
        "# let us do the slicing using old dataframe df\n",
        "\n",
        "df.iloc[0:2, 0:3]"
      ]
    },
    {
      "cell_type": "markdown",
      "source": [
        "**Pandas** is a popular library for data analysis built on top of the Python programming language. Pandas generally provide two data structures for manipulating data, They are:\n",
        "\n",
        "**DataFrame**\n",
        "Series\n",
        "A DataFrame is a** two-dimensional data structure**, i.e., data is aligned in a **tabular fashion in rows and columns**.\n",
        "\n",
        "A Pandas DataFrame will be created by loading the datasets from existing storage.\n",
        "Storage can be SQL Database, CSV file, Excel file, etc.\n",
        "It can also be **created from the lists, dictionaries**, and from a list of dictionaries.\n",
        "**Series** represents a **one-dimensional array of indexed data**. It has two main components :\n",
        "\n",
        "An array of actual data.\n",
        "An associated array of indexes or data labels.\n",
        "The index is used to access individual data values. You can also get a column of a dataframe as a Series. You can think of a Pandas series as a 1-D dataframe."
      ],
      "metadata": {
        "id": "t18CHsVtmtg6"
      }
    },
    {
      "cell_type": "code",
      "source": [],
      "metadata": {
        "id": "-hWnC8AfkJSa"
      },
      "execution_count": 10,
      "outputs": []
    },
    {
      "cell_type": "code",
      "source": [],
      "metadata": {
        "id": "VPwmRFE9nDNM"
      },
      "execution_count": null,
      "outputs": []
    }
  ]
}