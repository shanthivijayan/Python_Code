{
  "nbformat": 4,
  "nbformat_minor": 0,
  "metadata": {
    "colab": {
      "provenance": [],
      "authorship_tag": "ABX9TyPB+tazsp/7ITi6YsJOA8Ih",
      "include_colab_link": true
    },
    "kernelspec": {
      "name": "python3",
      "display_name": "Python 3"
    },
    "language_info": {
      "name": "python"
    }
  },
  "cells": [
    {
      "cell_type": "markdown",
      "metadata": {
        "id": "view-in-github",
        "colab_type": "text"
      },
      "source": [
        "<a href=\"https://colab.research.google.com/github/shanthivijayan/Python_Code/blob/main/Python_Webscraping.ipynb\" target=\"_parent\"><img src=\"https://colab.research.google.com/assets/colab-badge.svg\" alt=\"Open In Colab\"/></a>"
      ]
    },
    {
      "cell_type": "code",
      "execution_count": 1,
      "metadata": {
        "id": "Ugomr9LeNCn-"
      },
      "outputs": [],
      "source": [
        "from bs4 import BeautifulSoup #extract data from web page\n",
        "import requests # download the web page"
      ]
    },
    {
      "cell_type": "markdown",
      "source": [
        "Downloading And Scraping The Contents Of A Web Page"
      ],
      "metadata": {
        "id": "9tGNkBu_NHAX"
      }
    },
    {
      "cell_type": "code",
      "source": [
        "url = \"http://www.ibm.com\"\n",
        "data = requests.get(url).text\n",
        "soup = BeautifulSoup(data, \"html5lib\")  # create a soup object using the variable 'data'"
      ],
      "metadata": {
        "id": "PRugLOcmNHsq"
      },
      "execution_count": 2,
      "outputs": []
    },
    {
      "cell_type": "markdown",
      "source": [
        "Scrape all links"
      ],
      "metadata": {
        "id": "3n4bimfhNyVb"
      }
    },
    {
      "cell_type": "code",
      "source": [
        "for link in soup.find_all('a', href=True):  # in html anchor/link is represented by the tag <a>\n",
        "    print(link.get('href'))"
      ],
      "metadata": {
        "colab": {
          "base_uri": "https://localhost:8080/"
        },
        "id": "ukYe1184N0OD",
        "outputId": "c9f28280-0390-4ea0-a8df-7fb7dbcda3f5"
      },
      "execution_count": 3,
      "outputs": [
        {
          "output_type": "stream",
          "name": "stdout",
          "text": [
            "https://www.ibm.com/cloud?lnk=hpUSbt1\n"
          ]
        }
      ]
    },
    {
      "cell_type": "markdown",
      "source": [
        "Scrape all images Tags"
      ],
      "metadata": {
        "id": "5alS_NbRN_ls"
      }
    },
    {
      "cell_type": "code",
      "source": [
        "for link in soup.find_all('img'):  # in html image is represented by the tag <img>\n",
        "    print(link)\n",
        "    print(link.get('src'))"
      ],
      "metadata": {
        "id": "taJxwgUdOAwi"
      },
      "execution_count": 7,
      "outputs": []
    },
    {
      "cell_type": "markdown",
      "source": [
        "Scrape data from HTML tables"
      ],
      "metadata": {
        "id": "7FZh19CrOLhM"
      }
    },
    {
      "cell_type": "code",
      "source": [
        "# The below url contains an html table with data about colors and color codes.\n",
        "url = \"https://cf-courses-data.s3.us.cloud-object-storage.appdomain.cloud/IBM-DA0321EN-SkillsNetwork/labs/datasets/HTMLColorCodes.html\"\n",
        "# get the contents of the webpage in text format and store in a variable called data\n",
        "data = requests.get(url).text\n",
        "soup = BeautifulSoup(data, \"html5lib\")\n",
        "# find a html table in the web page\n",
        "table = soup.find('table')  # in html table is represented by the tag <table>\n",
        "# Get all rows from the table\n",
        "for row in table.find_all('tr'):  # in html table row represented by tag <tr>\n",
        "    # Get all columns in each row.\n",
        "    cols = row.find_all('td')  # in html a column is represented by tag <td>\n",
        "    color_name = cols[2].string  # store the value in column 3 as color_name\n",
        "    color_code = cols[3].text  # store the value in column 4 as color_code\n",
        "    print(\"{}--->{}\".format(color_name, color_code))"
      ],
      "metadata": {
        "colab": {
          "base_uri": "https://localhost:8080/"
        },
        "id": "nopePwe8OSZe",
        "outputId": "024de608-63bc-4db4-a877-93788517746c"
      },
      "execution_count": 11,
      "outputs": [
        {
          "output_type": "stream",
          "name": "stdout",
          "text": [
            "Color Name--->Hex Code#RRGGBB\n",
            "lightsalmon--->#FFA07A\n",
            "salmon--->#FA8072\n",
            "darksalmon--->#E9967A\n",
            "lightcoral--->#F08080\n",
            "coral--->#FF7F50\n",
            "tomato--->#FF6347\n",
            "orangered--->#FF4500\n",
            "gold--->#FFD700\n",
            "orange--->#FFA500\n",
            "darkorange--->#FF8C00\n",
            "lightyellow--->#FFFFE0\n",
            "lemonchiffon--->#FFFACD\n",
            "papayawhip--->#FFEFD5\n",
            "moccasin--->#FFE4B5\n",
            "peachpuff--->#FFDAB9\n",
            "palegoldenrod--->#EEE8AA\n",
            "khaki--->#F0E68C\n",
            "darkkhaki--->#BDB76B\n",
            "yellow--->#FFFF00\n",
            "lawngreen--->#7CFC00\n",
            "chartreuse--->#7FFF00\n",
            "limegreen--->#32CD32\n",
            "lime--->#00FF00\n",
            "forestgreen--->#228B22\n",
            "green--->#008000\n",
            "powderblue--->#B0E0E6\n",
            "lightblue--->#ADD8E6\n",
            "lightskyblue--->#87CEFA\n",
            "skyblue--->#87CEEB\n",
            "deepskyblue--->#00BFFF\n",
            "lightsteelblue--->#B0C4DE\n",
            "dodgerblue--->#1E90FF\n"
          ]
        }
      ]
    },
    {
      "cell_type": "markdown",
      "source": [
        "Scraping tables from a Web page using Pandas"
      ],
      "metadata": {
        "id": "1C4Iy8XuO0Kw"
      }
    },
    {
      "cell_type": "code",
      "source": [
        "# The below url contains an html table with data about colors and color codes.\n",
        "url = \"https://cf-courses-data.s3.us.cloud-object-storage.appdomain.cloud/IBM-DA0321EN-SkillsNetwork/labs/datasets/HTMLColorCodes.html\"\n",
        "import pandas as pd\n",
        "\n",
        "tables = pd.read_html(url)\n",
        "tables"
      ],
      "metadata": {
        "colab": {
          "base_uri": "https://localhost:8080/"
        },
        "id": "XVyCVZtXOw8w",
        "outputId": "c542ba0c-6abd-465e-aa73-ada36057646e"
      },
      "execution_count": 12,
      "outputs": [
        {
          "output_type": "execute_result",
          "data": {
            "text/plain": [
              "[         0      1               2                 3                     4\n",
              " 0   Number  Color      Color Name  Hex Code #RRGGBB  Decimal Code (R,G,B)\n",
              " 1        1    NaN     lightsalmon           #FFA07A      rgb(255,160,122)\n",
              " 2        2    NaN          salmon           #FA8072      rgb(250,128,114)\n",
              " 3        3    NaN      darksalmon           #E9967A      rgb(233,150,122)\n",
              " 4        4    NaN      lightcoral           #F08080      rgb(240,128,128)\n",
              " 5        5    NaN           coral           #FF7F50       rgb(255,127,80)\n",
              " 6        6    NaN          tomato           #FF6347        rgb(255,99,71)\n",
              " 7        7    NaN       orangered           #FF4500         rgb(255,69,0)\n",
              " 8        8    NaN            gold           #FFD700        rgb(255,215,0)\n",
              " 9        9    NaN          orange           #FFA500        rgb(255,165,0)\n",
              " 10      10    NaN      darkorange           #FF8C00        rgb(255,140,0)\n",
              " 11      11    NaN     lightyellow           #FFFFE0      rgb(255,255,224)\n",
              " 12      12    NaN    lemonchiffon           #FFFACD      rgb(255,250,205)\n",
              " 13      13    NaN      papayawhip           #FFEFD5      rgb(255,239,213)\n",
              " 14      14    NaN        moccasin           #FFE4B5      rgb(255,228,181)\n",
              " 15      15    NaN       peachpuff           #FFDAB9      rgb(255,218,185)\n",
              " 16      16    NaN   palegoldenrod           #EEE8AA      rgb(238,232,170)\n",
              " 17      17    NaN           khaki           #F0E68C      rgb(240,230,140)\n",
              " 18      18    NaN       darkkhaki           #BDB76B      rgb(189,183,107)\n",
              " 19      19    NaN          yellow           #FFFF00        rgb(255,255,0)\n",
              " 20      20    NaN       lawngreen           #7CFC00        rgb(124,252,0)\n",
              " 21      21    NaN      chartreuse           #7FFF00        rgb(127,255,0)\n",
              " 22      22    NaN       limegreen           #32CD32        rgb(50,205,50)\n",
              " 23      23    NaN            lime           #00FF00          rgb(0.255.0)\n",
              " 24      24    NaN     forestgreen           #228B22        rgb(34,139,34)\n",
              " 25      25    NaN           green           #008000          rgb(0,128,0)\n",
              " 26      26    NaN      powderblue           #B0E0E6      rgb(176,224,230)\n",
              " 27      27    NaN       lightblue           #ADD8E6      rgb(173,216,230)\n",
              " 28      28    NaN    lightskyblue           #87CEFA      rgb(135,206,250)\n",
              " 29      29    NaN         skyblue           #87CEEB      rgb(135,206,235)\n",
              " 30      30    NaN     deepskyblue           #00BFFF        rgb(0,191,255)\n",
              " 31      31    NaN  lightsteelblue           #B0C4DE      rgb(176,196,222)\n",
              " 32      32    NaN      dodgerblue           #1E90FF       rgb(30,144,255)]"
            ]
          },
          "metadata": {},
          "execution_count": 12
        }
      ]
    },
    {
      "cell_type": "markdown",
      "source": [],
      "metadata": {
        "id": "OZVZ_NMYOL5e"
      }
    }
  ]
}