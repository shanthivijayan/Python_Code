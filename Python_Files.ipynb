{
  "nbformat": 4,
  "nbformat_minor": 0,
  "metadata": {
    "colab": {
      "provenance": [],
      "authorship_tag": "ABX9TyPswBB+gnG+qxwgNXMMFQzx",
      "include_colab_link": true
    },
    "kernelspec": {
      "name": "python3",
      "display_name": "Python 3"
    },
    "language_info": {
      "name": "python"
    }
  },
  "cells": [
    {
      "cell_type": "markdown",
      "metadata": {
        "id": "view-in-github",
        "colab_type": "text"
      },
      "source": [
        "<a href=\"https://colab.research.google.com/github/shanthivijayan/Python_Code/blob/main/Python_Files.ipynb\" target=\"_parent\"><img src=\"https://colab.research.google.com/assets/colab-badge.svg\" alt=\"Open In Colab\"/></a>"
      ]
    },
    {
      "cell_type": "markdown",
      "source": [
        "Read from file"
      ],
      "metadata": {
        "id": "rNgC1xaWJ2uP"
      }
    },
    {
      "cell_type": "code",
      "execution_count": 34,
      "metadata": {
        "colab": {
          "base_uri": "https://localhost:8080/"
        },
        "id": "NJ5UoktSAuGh",
        "outputId": "9355a85e-8ea4-4169-b591-0f60b8503ada"
      },
      "outputs": [
        {
          "output_type": "stream",
          "name": "stdout",
          "text": [
            "/content/Text.txt\n",
            "r\n",
            "Line 1\n",
            "\n",
            "\n",
            "\n"
          ]
        }
      ],
      "source": [
        "with open(\"/content/Text.txt\",'r') as readfile:\n",
        "  #print(readfile.readlines())\n",
        "  #print(readfile.read())\n",
        "  print(readfile.name)\n",
        "  print(readfile.mode)\n",
        "  print(readfile.read(6))#display upto 6 character\n",
        "  print(readfile.read(2))#after 6th chare\n",
        "  #print(readfile.readline())\n"
      ]
    },
    {
      "cell_type": "code",
      "source": [
        "with open(\"/content/Text.txt\",'r') as readfile:\n",
        "  print(readfile.readlines())\n",
        "  #print(readfile.read())"
      ],
      "metadata": {
        "colab": {
          "base_uri": "https://localhost:8080/"
        },
        "id": "OPM2pTTxIT-j",
        "outputId": "8bf02536-a161-49ef-b4f5-4d71bc56ecbc"
      },
      "execution_count": 35,
      "outputs": [
        {
          "output_type": "stream",
          "name": "stdout",
          "text": [
            "['Line 1\\n', '\\n', 'Line 2\\n', '\\n', 'Line 3\\n', '\\n', 'finished\\n']\n"
          ]
        }
      ]
    },
    {
      "cell_type": "code",
      "source": [
        "with open(\"/content/Text.txt\",'r') as readfile:\n",
        "  print(readfile.read())"
      ],
      "metadata": {
        "colab": {
          "base_uri": "https://localhost:8080/"
        },
        "id": "Yi_bENiLIZOG",
        "outputId": "a8a73126-daa2-4d81-eb25-1bfd45440772"
      },
      "execution_count": 21,
      "outputs": [
        {
          "output_type": "stream",
          "name": "stdout",
          "text": [
            "Line 1\n",
            "\n",
            "Line 2\n",
            "\n",
            "Line 3\n",
            "\n",
            "finished\n",
            "\n"
          ]
        }
      ]
    },
    {
      "cell_type": "code",
      "source": [
        "#using for loop read the data\n",
        "with open(\"/content/Text.txt\",'r') as readfile:\n",
        "  for read in readfile:\n",
        "    print(read)# act like a list\n",
        ""
      ],
      "metadata": {
        "colab": {
          "base_uri": "https://localhost:8080/"
        },
        "id": "Nk2UFdyWF8sd",
        "outputId": "8ecf99c4-eec4-423a-8291-29e1b47064e5"
      },
      "execution_count": 19,
      "outputs": [
        {
          "output_type": "stream",
          "name": "stdout",
          "text": [
            "Line 1\n",
            "\n",
            "\n",
            "\n",
            "Line 2\n",
            "\n",
            "\n",
            "\n",
            "Line 3\n",
            "\n",
            "\n",
            "\n",
            "finished\n",
            "\n"
          ]
        }
      ]
    },
    {
      "cell_type": "code",
      "source": [
        "handle=open(\"/content/Text.txt\",\"r\")\n",
        "print(handle.read())\n",
        "handle.close()"
      ],
      "metadata": {
        "colab": {
          "base_uri": "https://localhost:8080/"
        },
        "id": "R0KX31GxDOtq",
        "outputId": "df2c90a0-d96f-4323-c6f7-2af56ef8c731"
      },
      "execution_count": 9,
      "outputs": [
        {
          "output_type": "stream",
          "name": "stdout",
          "text": [
            "Line 1\n",
            "\n",
            "Line 2\n",
            "\n",
            "Line 3\n",
            "\n",
            "finished\n",
            "\n"
          ]
        }
      ]
    },
    {
      "cell_type": "markdown",
      "source": [
        "Write the file if file is not there it will create a new file and add the data to file and if file is there it will override the existing the data with new one"
      ],
      "metadata": {
        "id": "myy0rTZqK4Ti"
      }
    },
    {
      "cell_type": "code",
      "source": [
        "with open(\"/content/Textwrite.txt\",'w') as writefile:\n",
        "  writefile.write(\"Write mode used to write the data into the file\")"
      ],
      "metadata": {
        "id": "-1lph1ZUKNwh"
      },
      "execution_count": 40,
      "outputs": []
    },
    {
      "cell_type": "markdown",
      "source": [
        "Append method is used to update the data without override the existing data in the file"
      ],
      "metadata": {
        "id": "hgJOTxo0LnQb"
      }
    },
    {
      "cell_type": "code",
      "source": [
        "with open(\"/content/Textapppend1.txt\",'a') as appendfile:\n",
        "  appendfile.write(\"append mode used to update the data wtih existing data in the file\")\n",
        "  appendfile.write(\"\\nwrite the data\")\n",
        "\n",
        "with open(\"/content/Textapppend1.txt\") as readfile:\n",
        "  print(readfile.read())"
      ],
      "metadata": {
        "colab": {
          "base_uri": "https://localhost:8080/"
        },
        "id": "Bw1TUPjjLmzU",
        "outputId": "5831fa51-c279-4311-ca4e-6e863d58984b"
      },
      "execution_count": 50,
      "outputs": [
        {
          "output_type": "stream",
          "name": "stdout",
          "text": [
            "ppend mode used to update the data wtih existing data in the fileppend mode used to update the data wtih existing data in the fileppend mode used to update the data wtih existing data in the fileppend mode used to update the data wtih existing data in the fileappend mode used to update the data wtih existing data in the fileappend mode used to update the data wtih existing data in the fileappend mode used to update the data wtih existing data in the fileappend mode used to update the data wtih existing data in the fileappend mode used to update the data wtih existing data in the fileappend mode used to update the data wtih existing data in the fileappend mode used to update the data wtih existing data in the fileappend mode used to update the data wtih existing data in the filewrite the dataappend mode used to update the data wtih existing data in the file\n",
            "write the data\n"
          ]
        }
      ]
    },
    {
      "cell_type": "code",
      "source": [
        "with open(\"/content/Textappend.txt\",'a') as appendfile:\n",
        "  #appendfile.write(\"append mode used to update the data wtih existing data in the file\")\n",
        "  appendfile.write(\"\\nwrite the data\")\n",
        "\n",
        "with open(\"/content/Textappend.txt\") as readfile:\n",
        "  print(readfile.read())"
      ],
      "metadata": {
        "colab": {
          "base_uri": "https://localhost:8080/"
        },
        "id": "2w2ONwHphD5M",
        "outputId": "318fd47f-0e5a-477c-e1ff-1c6809ad4f49"
      },
      "execution_count": 53,
      "outputs": [
        {
          "output_type": "stream",
          "name": "stdout",
          "text": [
            "ppend mode used to update the data wtih existing data in the file\n",
            "write the data\n",
            "write the data\n"
          ]
        }
      ]
    }
  ]
}