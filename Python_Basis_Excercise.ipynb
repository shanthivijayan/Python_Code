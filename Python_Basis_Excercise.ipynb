{
  "nbformat": 4,
  "nbformat_minor": 0,
  "metadata": {
    "colab": {
      "provenance": [],
      "authorship_tag": "ABX9TyMuDlzL6ropmvypEpceboS8",
      "include_colab_link": true
    },
    "kernelspec": {
      "name": "python3",
      "display_name": "Python 3"
    },
    "language_info": {
      "name": "python"
    }
  },
  "cells": [
    {
      "cell_type": "markdown",
      "metadata": {
        "id": "view-in-github",
        "colab_type": "text"
      },
      "source": [
        "<a href=\"https://colab.research.google.com/github/shanthivijayan/Python_Code/blob/main/Python_Basis_Excercise.ipynb\" target=\"_parent\"><img src=\"https://colab.research.google.com/assets/colab-badge.svg\" alt=\"Open In Colab\"/></a>"
      ]
    },
    {
      "cell_type": "code",
      "source": [
        "#Write a Python code to return your Python version\n",
        "import sys\n",
        "print(\"Python Version\",sys.version)\n",
        "\n",
        "#Write a Python code to declare variable id=\"513\".\n",
        "#Print the following statement \"customer id =513\". [Don't use print(\"customer id\n",
        "id=\"513\"\n",
        "print(\"Customer id =\",id)\n",
        "\n",
        "#Run the following statement, why there is an error\n",
        "\n",
        "#id=id+1\n",
        "'''\n",
        "Python Version 3.10.12 (main, Nov 20 2023, 15:14:05) [GCC 11.4.0]\n",
        "Customer id = 513\n",
        "---------------------------------------------------------------------------\n",
        "TypeError                                 Traceback (most recent call last)\n",
        "<ipython-input-16-bf075f9e98b2> in <cell line: 12>()\n",
        "     10 #Run the following statement, why there is an error\n",
        "     11\n",
        "---> 12 id=id+1\n",
        "\n",
        "TypeError: can only concatenate str (not \"int\") to str\n",
        "'''\n",
        "#Convert the variable id into an integer, increment it by 1.\n",
        "#Assign the result to variable new_id.\n",
        "#Print the new_id\n",
        "\n",
        "new_id=int(id)+1\n",
        "print(new_id)"
      ],
      "metadata": {
        "colab": {
          "base_uri": "https://localhost:8080/"
        },
        "id": "gmvTvUIb8zGr",
        "outputId": "198e1556-6bec-411a-f163-2263b30f9b3b"
      },
      "execution_count": 18,
      "outputs": [
        {
          "output_type": "stream",
          "name": "stdout",
          "text": [
            "Python Version 3.10.12 (main, Nov 20 2023, 15:14:05) [GCC 11.4.0]\n",
            "Customer id = 513\n",
            "514\n"
          ]
        }
      ]
    },
    {
      "cell_type": "markdown",
      "source": [
        "#Write a Python code to print the following string in a specific format (see the\n",
        "\n",
        "# Twinkle, twinkle, little star,\n",
        "#     How I wonder what you are!\n",
        "#        Up above the world so high,\n",
        "#            Like a diamond in the sky."
      ],
      "metadata": {
        "id": "7CDu-oUH8mAG"
      }
    },
    {
      "cell_type": "code",
      "execution_count": 12,
      "metadata": {
        "colab": {
          "base_uri": "https://localhost:8080/"
        },
        "id": "jPNst8nR5zlN",
        "outputId": "df0553aa-a889-4c63-826e-38df4dd9a118"
      },
      "outputs": [
        {
          "output_type": "stream",
          "name": "stdout",
          "text": [
            "Twinkle, twinkle, little star, \n",
            "\tHow I wonder what you are! \n",
            "\t\tUp above the world so high, \n",
            "\t\tLike a diamond in the sky. \n",
            "Twinkle, twinkle, little star, \n",
            "\tHow I wonder what you are!\n",
            "P\n",
            "t\n",
            "23\n",
            "e\n",
            "Data\n",
            "Ph ra i\n",
            "Python for Data Science, AI & Development\n",
            "Python_for_Data_Science\n",
            "PYTHON FOR DATA SCIENCE\n"
          ]
        }
      ],
      "source": [
        "\n",
        "print(\"Twinkle, twinkle, little star, \\n\\tHow I wonder what you are! \\n\\t\\tUp above the world so high, \\n\\t\\tLike a diamond in the sky. \\nTwinkle, twinkle, little star, \\n\\tHow I wonder what you are!\")\n",
        "\n",
        "\n",
        "#Givin the following string variable, # Print the first element in the string\n",
        "course=\"Python for Data Science\"\n",
        "print(course[0])\n",
        "\n",
        "#Print the element on the 13th index in the string\n",
        "print(course[13])\n",
        "\n",
        "# Find the length of string\n",
        "print(len(course))\n",
        "\n",
        "# Print the last element in the string [use negative index]\n",
        "print(course[-1])\n",
        "\n",
        "# Take the slice on variable course with only index 11 to index 14\n",
        "print(course[11:15])\n",
        "\n",
        "# Get every third element in the range from index 0 to index 20\n",
        "print(course[0:20:3])\n",
        "# Concatenate course string with \", AI & Development\"\n",
        "print(course+\", AI & Development\")\n",
        "\n",
        "# Replace all the spaces with (_). New string should looks like\"Python_for_Data_S\n",
        "print(course.replace(\" \",\"_\"))\n",
        "\n",
        "# Convert all the characters in string to upper case\n",
        "print(course.upper())\n"
      ]
    }
  ]
}