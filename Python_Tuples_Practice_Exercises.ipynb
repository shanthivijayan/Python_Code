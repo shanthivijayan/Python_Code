{
  "cells": [
    {
      "cell_type": "markdown",
      "metadata": {
        "id": "view-in-github",
        "colab_type": "text"
      },
      "source": [
        "<a href=\"https://colab.research.google.com/github/shanthivijayan/Python_Code/blob/main/Python_Tuples_Practice_Exercises.ipynb\" target=\"_parent\"><img src=\"https://colab.research.google.com/assets/colab-badge.svg\" alt=\"Open In Colab\"/></a>"
      ]
    },
    {
      "cell_type": "markdown",
      "metadata": {
        "id": "L9xm3XOljy1-"
      },
      "source": [
        "# Python Tuples Exercises"
      ]
    },
    {
      "cell_type": "code",
      "execution_count": 20,
      "metadata": {
        "colab": {
          "base_uri": "https://localhost:8080/"
        },
        "id": "xCge1fnhjy2D",
        "outputId": "987fd57c-00bd-4bc0-b22d-eaa508d2fc3f"
      },
      "outputs": [
        {
          "output_type": "stream",
          "name": "stdout",
          "text": [
            "('NPower', 'JDA', 'Tuesday', 30, 3, 2021)\n"
          ]
        }
      ],
      "source": [
        "#Q1 Create myTuple tuple with the follwoing values\n",
        "#(\"NPower\",\"JDA\",\"Tuesday\",30,3,2021)\n",
        "myTuple=(\"NPower\",\"JDA\",\"Tuesday\",30,3,2021)\n",
        "print(myTuple)\n"
      ]
    },
    {
      "cell_type": "code",
      "execution_count": 2,
      "metadata": {
        "colab": {
          "base_uri": "https://localhost:8080/"
        },
        "id": "8HeqsoWbjy2G",
        "outputId": "c1192a5e-a937-4e72-fae8-615da6e8cf7e"
      },
      "outputs": [
        {
          "output_type": "stream",
          "name": "stdout",
          "text": [
            "<class 'tuple'>\n"
          ]
        }
      ],
      "source": [
        "#Q2 What is the type of myTuple\n",
        "print(type(myTuple))"
      ]
    },
    {
      "cell_type": "code",
      "execution_count": 3,
      "metadata": {
        "colab": {
          "base_uri": "https://localhost:8080/"
        },
        "id": "MtGUKRPujy2G",
        "outputId": "4cb6ef58-ccf1-4342-f5a9-8472727051c8"
      },
      "outputs": [
        {
          "output_type": "stream",
          "name": "stdout",
          "text": [
            "6\n"
          ]
        }
      ],
      "source": [
        "#Q3 What is the length of myTuple\n",
        "print(len(myTuple))"
      ]
    },
    {
      "cell_type": "code",
      "execution_count": 21,
      "metadata": {
        "colab": {
          "base_uri": "https://localhost:8080/"
        },
        "id": "VyHGjjXwjy2H",
        "outputId": "8ecf6abc-1943-4d8e-85da-f39a83760f18"
      },
      "outputs": [
        {
          "output_type": "stream",
          "name": "stdout",
          "text": [
            "NPower\n",
            "JDA\n",
            "Tuesday\n",
            "30\n",
            "3\n",
            "2021\n"
          ]
        }
      ],
      "source": [
        "#Q4 print the values in each index #Use regular indexing\n",
        "#for t in range(0,len(myTuple)):\n",
        " # print(\"myTuple[\",t,\"]\",myTuple[t])\n",
        "print(myTuple[0])\n",
        "print(myTuple[1])\n",
        "print(myTuple[2])\n",
        "print(myTuple[3])\n",
        "print(myTuple[4])\n",
        "print(myTuple[5])\n",
        "\n"
      ]
    },
    {
      "cell_type": "code",
      "execution_count": 22,
      "metadata": {
        "colab": {
          "base_uri": "https://localhost:8080/"
        },
        "id": "awpl8zyEjy2I",
        "outputId": "6904b2fd-700f-41dc-8683-9a3db71f565f"
      },
      "outputs": [
        {
          "output_type": "stream",
          "name": "stdout",
          "text": [
            "2021\n",
            "3\n",
            "30\n",
            "Tuesday\n",
            "JDA\n",
            "NPower\n"
          ]
        }
      ],
      "source": [
        "#Q5 print the values in each index #Use negative indexing\n",
        "#for t in range(-1,-len(myTuple),-1):\n",
        "# print(\"myTuple[\",t,\"]\",myTuple[t])\n",
        "print(myTuple[-1])\n",
        "print(myTuple[-2])\n",
        "print(myTuple[-3])\n",
        "print(myTuple[-4])\n",
        "print(myTuple[-5])\n",
        "print(myTuple[-6])"
      ]
    },
    {
      "cell_type": "code",
      "execution_count": 24,
      "metadata": {
        "colab": {
          "base_uri": "https://localhost:8080/"
        },
        "id": "e55tJ0FAjy2I",
        "outputId": "070eae4c-3f95-42f1-848b-21a34feaf655"
      },
      "outputs": [
        {
          "output_type": "stream",
          "name": "stdout",
          "text": [
            "<class 'str'>\n",
            "<class 'str'>\n",
            "<class 'str'>\n",
            "<class 'int'>\n",
            "<class 'int'>\n",
            "<class 'int'>\n"
          ]
        }
      ],
      "source": [
        "#Q6 what is the type of each value\n",
        "#for t in range(0,len(myTuple)):\n",
        " # print(\"myTuple[\",t,\"]\",type(myTuple[t]))\n",
        "print(type(myTuple[0]))\n",
        "print(type(myTuple[1]))\n",
        "print(type(myTuple[2]))\n",
        "print(type(myTuple[3]))\n",
        "print(type(myTuple[4]))\n",
        "print(type(myTuple[5]))"
      ]
    },
    {
      "cell_type": "code",
      "execution_count": 28,
      "metadata": {
        "colab": {
          "base_uri": "https://localhost:8080/"
        },
        "id": "gstNWYimjy2J",
        "outputId": "d57a1aa1-1e37-4911-e493-bc1d9f00a08a"
      },
      "outputs": [
        {
          "output_type": "stream",
          "name": "stdout",
          "text": [
            "NPower , JDA , Tuesday , 30 , 3 , 2021\n"
          ]
        }
      ],
      "source": [
        "#Q7 unpack myTuple in the follwoeing variables\n",
        "#name,program,dayName,month,day,year accordingly\n",
        "# print the variables\n",
        "name= myTuple[0]\n",
        "program = myTuple[1]\n",
        "dayName =myTuple[2]\n",
        "month =myTuple[3]\n",
        "day = myTuple[4]\n",
        "year = myTuple[5]\n",
        "print(name,\",\",program,\",\",dayName,\",\",month,\",\",day,\",\",year)\n"
      ]
    },
    {
      "cell_type": "code",
      "execution_count": 36,
      "metadata": {
        "colab": {
          "base_uri": "https://localhost:8080/"
        },
        "id": "Y4MYfAkYjy2J",
        "outputId": "de0db92c-356c-4c89-ff7f-14e664938268"
      },
      "outputs": [
        {
          "output_type": "stream",
          "name": "stdout",
          "text": [
            "('NPower', 'JDA', 'Tuesday', 30, 3, 2021)\n",
            "('NPower', 'JDA', 'Tuesday')\n",
            "('NPower', 'JDA', 'Tuesday')\n",
            "('NPower', 'JDA', 'Tuesday', 30, 3, 2021)\n"
          ]
        }
      ],
      "source": [
        "#Q8 unpack myTuple2 in the follwoeing variables name,program,dayName.\n",
        "# What will happen to variables (name,program,dayName) and (month,day,year)\n",
        "myTuple2 =(name,program,dayName)\n",
        "print(myTuple)\n",
        "print(myTuple2)\n",
        "myTuple2=(myTuple[0],myTuple[1],myTuple[2])\n",
        "print(myTuple2)\n",
        "print(myTuple)\n"
      ]
    },
    {
      "cell_type": "code",
      "execution_count": 40,
      "metadata": {
        "colab": {
          "base_uri": "https://localhost:8080/"
        },
        "id": "HwHPh7KNjy2J",
        "outputId": "def691c9-8e33-4ae0-98ee-89c94ca9f7fb"
      },
      "outputs": [
        {
          "output_type": "stream",
          "name": "stdout",
          "text": [
            "('Ulan',)\n",
            "Type a <class 'str'>\n",
            "Jerry 2 89\n",
            "<class 'tuple'>\n",
            "('Ulan',)\n",
            "Leul\n"
          ]
        }
      ],
      "source": [
        "# Note the following\n",
        "Tuple1=(\"Jerry\",2,89) #This is a tuple with 3 elements\n",
        "Tuple2=(\"Ulan\",)#This is a tuple with 1 element\n",
        "test=\"Leul\" #This is a VARIABLE with string value\n",
        "print(Tuple2)\n",
        "a,b,c=Tuple1\n",
        "print(\"Type a\",type(a))\n",
        "print(a,b,c)\n",
        "\n",
        "d=Tuple2\n",
        "print(type(d))\n",
        "print(d)\n",
        "\n",
        "e=test\n",
        "print(e)"
      ]
    },
    {
      "cell_type": "code",
      "execution_count": 41,
      "metadata": {
        "colab": {
          "base_uri": "https://localhost:8080/",
          "height": 228
        },
        "id": "5YaB_iV4jy2K",
        "outputId": "fec58f96-8bd4-42a0-e63c-05435cc20e9b"
      },
      "outputs": [
        {
          "output_type": "stream",
          "name": "stdout",
          "text": [
            "(1, 2, 3)\n",
            "(4, 5, 6)\n"
          ]
        },
        {
          "output_type": "error",
          "ename": "TypeError",
          "evalue": "'tuple' object does not support item assignment",
          "traceback": [
            "\u001b[0;31m---------------------------------------------------------------------------\u001b[0m",
            "\u001b[0;31mTypeError\u001b[0m                                 Traceback (most recent call last)",
            "\u001b[0;32m<ipython-input-41-aafdd4373c97>\u001b[0m in \u001b[0;36m<cell line: 13>\u001b[0;34m()\u001b[0m\n\u001b[1;32m     11\u001b[0m \u001b[0;31m#But we can't change or edit a value for the existing tuple\u001b[0m\u001b[0;34m\u001b[0m\u001b[0;34m\u001b[0m\u001b[0m\n\u001b[1;32m     12\u001b[0m \u001b[0;34m\u001b[0m\u001b[0m\n\u001b[0;32m---> 13\u001b[0;31m \u001b[0mtestTuple\u001b[0m\u001b[0;34m[\u001b[0m\u001b[0;36m0\u001b[0m\u001b[0;34m]\u001b[0m\u001b[0;34m=\u001b[0m\u001b[0;36m6\u001b[0m \u001b[0;31m#ERROR 'tuple' object does not support item assignment\u001b[0m\u001b[0;34m\u001b[0m\u001b[0;34m\u001b[0m\u001b[0m\n\u001b[0m\u001b[1;32m     14\u001b[0m \u001b[0;34m\u001b[0m\u001b[0m\n",
            "\u001b[0;31mTypeError\u001b[0m: 'tuple' object does not support item assignment"
          ]
        }
      ],
      "source": [
        "#Tuples are immutable\n",
        "#we can always make the testTuple variable reference a new tuple in the memory\n",
        "#and hold a different information\n",
        "\n",
        "testTuple=(1,2,3)\n",
        "print(testTuple)\n",
        "\n",
        "testTuple=(4,5,6)\n",
        "print(testTuple)\n",
        "\n",
        "#But we can't change or edit a value for the existing tuple\n",
        "\n",
        "testTuple[0]=6 #ERROR 'tuple' object does not support item assignment\n",
        "\n"
      ]
    },
    {
      "cell_type": "code",
      "execution_count": 44,
      "metadata": {
        "colab": {
          "base_uri": "https://localhost:8080/"
        },
        "id": "JoPy9nm4jy2L",
        "outputId": "6e27ac34-74f0-4129-eadc-5e946f878b40"
      },
      "outputs": [
        {
          "output_type": "stream",
          "name": "stdout",
          "text": [
            "(2021, 3, 30, 'Tuesday', 'JDA', 'NPower')\n"
          ]
        }
      ],
      "source": [
        "#Q9 Reverse myTuple, output should looks like\n",
        "#(2021,3,30,\"Tuesday\",\"JDA\",\"NPower\")\n",
        "myTuple3=myTuple[::-1]\n",
        "\n",
        "print(myTuple3)"
      ]
    },
    {
      "cell_type": "code",
      "execution_count": 46,
      "metadata": {
        "colab": {
          "base_uri": "https://localhost:8080/"
        },
        "id": "ssTlxb49jy2L",
        "outputId": "b7d17975-6c14-4154-90df-9c255501cd9a"
      },
      "outputs": [
        {
          "output_type": "stream",
          "name": "stdout",
          "text": [
            "(('Coursera', 'course', 6), ('week', (2, 'Lists', 'Tuple')))\n"
          ]
        }
      ],
      "source": [
        "#Q10 Create nestedTuple=((\"Coursera\",\"course\",6),(\"week\",(2,\"Lists\",\"Tuple\")))\n",
        "nestedTuple=((\"Coursera\",\"course\",6),(\"week\",(2,\"Lists\",\"Tuple\")))\n",
        "print(nestedTuple)"
      ]
    },
    {
      "cell_type": "code",
      "execution_count": 53,
      "metadata": {
        "colab": {
          "base_uri": "https://localhost:8080/"
        },
        "id": "sQf_7KXjjy2M",
        "outputId": "b6ee1297-4f5d-4ad6-99a4-5336befca77f"
      },
      "outputs": [
        {
          "output_type": "stream",
          "name": "stdout",
          "text": [
            "(('Coursera', 'course', 6), ('week', (2, 'Lists', 'Tuple')))\n",
            "(('week', (2, 'Lists', 'Tuple')),)\n"
          ]
        }
      ],
      "source": [
        "#Q11 What is the output of nestedTuple[1:2]\n",
        "print(nestedTuple[0:2])\n",
        "print(nestedTuple[1:3])"
      ]
    },
    {
      "cell_type": "code",
      "execution_count": 54,
      "metadata": {
        "colab": {
          "base_uri": "https://localhost:8080/"
        },
        "id": "kFdQp3ZKjy2M",
        "outputId": "21567142-15fe-45b8-cc3f-9a05942791e0"
      },
      "outputs": [
        {
          "output_type": "stream",
          "name": "stdout",
          "text": [
            "('Coursera', 'course', 6)\n",
            "('week', (2, 'Lists', 'Tuple'))\n"
          ]
        }
      ],
      "source": [
        "#Q12 print each element in the nestedTuple\n",
        "print(nestedTuple[0])\n",
        "print(nestedTuple[1])\n"
      ]
    },
    {
      "cell_type": "code",
      "execution_count": 55,
      "metadata": {
        "colab": {
          "base_uri": "https://localhost:8080/"
        },
        "id": "9yx12J86jy2M",
        "outputId": "39f51991-3f72-45a3-ce4b-7ece5b9723e4"
      },
      "outputs": [
        {
          "output_type": "stream",
          "name": "stdout",
          "text": [
            "(2, 'Lists', 'Tuple')\n"
          ]
        }
      ],
      "source": [
        "from typing import NewType\n",
        "#Q13 Access (2,\"Lists\",\"Tuple\") from nestedTuple\n",
        "print(nestedTuple[1][1])"
      ]
    },
    {
      "cell_type": "code",
      "execution_count": 56,
      "metadata": {
        "colab": {
          "base_uri": "https://localhost:8080/"
        },
        "id": "sMguWVtsjy2N",
        "outputId": "b0f5439b-b71f-4fe0-8dbb-02a8b8917abc"
      },
      "outputs": [
        {
          "output_type": "stream",
          "name": "stdout",
          "text": [
            "Lists\n"
          ]
        }
      ],
      "source": [
        "#Q14 Access the value \"Lists\" from nestedTuple\n",
        "print(nestedTuple[1][1][1])"
      ]
    },
    {
      "cell_type": "code",
      "execution_count": 57,
      "metadata": {
        "colab": {
          "base_uri": "https://localhost:8080/"
        },
        "id": "uAZhCbvxjy2N",
        "outputId": "4e68e086-0286-46cb-a465-79ad309531de"
      },
      "outputs": [
        {
          "output_type": "stream",
          "name": "stdout",
          "text": [
            "Tuple\n"
          ]
        }
      ],
      "source": [
        "#Q15 Access the value \"Tuple\" from nestedTuple\n",
        "print(nestedTuple[1][1][2])"
      ]
    },
    {
      "cell_type": "code",
      "execution_count": 58,
      "metadata": {
        "colab": {
          "base_uri": "https://localhost:8080/"
        },
        "id": "px5NGQzAjy2N",
        "outputId": "01291796-ef4b-4c9d-99bf-7836ba36cc4a"
      },
      "outputs": [
        {
          "output_type": "stream",
          "name": "stdout",
          "text": [
            "course\n"
          ]
        }
      ],
      "source": [
        "#Q16 Access the value \"course\" from nestedTuple\n",
        "print(nestedTuple[0][1])"
      ]
    },
    {
      "cell_type": "code",
      "execution_count": 59,
      "metadata": {
        "colab": {
          "base_uri": "https://localhost:8080/"
        },
        "id": "WRvjLBGDjy2N",
        "outputId": "938a83cd-9118-481d-da46-a77ca9895afd"
      },
      "outputs": [
        {
          "output_type": "stream",
          "name": "stdout",
          "text": [
            "('NPower', 'JDA', 'Tuesday', 30, 3, 2021, ('Coursera', 'course', 6), ('week', (2, 'Lists', 'Tuple')))\n"
          ]
        }
      ],
      "source": [
        "#Q17 Concatenate myTuple with nestedTuple\n",
        "myconcateTuple= myTuple + nestedTuple\n",
        "print(myconcateTuple)"
      ]
    },
    {
      "cell_type": "code",
      "execution_count": 63,
      "metadata": {
        "colab": {
          "base_uri": "https://localhost:8080/"
        },
        "id": "wKbCXk7-jy2O",
        "outputId": "4c5223a6-ada1-414a-f3f3-b35f73131010"
      },
      "outputs": [
        {
          "output_type": "stream",
          "name": "stdout",
          "text": [
            "('NPower', 'JDA', 'Tuesday', 30, 3, 2021, ('Coursera', 'course', 6), ('week', (2, 'Lists', 'Tuple')), 'Group7')\n"
          ]
        }
      ],
      "source": [
        "#Q18 add your name to the tuple\n",
        "myconcateTuple1 =myconcateTuple +(\"Group7\",)\n",
        "print(myconcateTuple1)"
      ]
    },
    {
      "cell_type": "code",
      "execution_count": 64,
      "metadata": {
        "colab": {
          "base_uri": "https://localhost:8080/"
        },
        "id": "e5QzZkuPjy2O",
        "outputId": "18b17fde-1082-458d-8d80-92f32ad3e5a6"
      },
      "outputs": [
        {
          "output_type": "execute_result",
          "data": {
            "text/plain": [
              "False"
            ]
          },
          "metadata": {},
          "execution_count": 64
        }
      ],
      "source": [
        "#Q19 check whether Coursera exists within  myTuple\n",
        "\"coursera\" in myTuple\n",
        "# NOTE \"in\" doesn't work properly with nested tuples\n"
      ]
    },
    {
      "cell_type": "code",
      "execution_count": 65,
      "metadata": {
        "colab": {
          "base_uri": "https://localhost:8080/"
        },
        "id": "fAgoczZujy2P",
        "outputId": "c071c198-3a70-4a0d-8685-3ce414f426e9"
      },
      "outputs": [
        {
          "output_type": "execute_result",
          "data": {
            "text/plain": [
              "True"
            ]
          },
          "metadata": {},
          "execution_count": 65
        }
      ],
      "source": [
        "#Q20 check whether 55 exists within testTuple\n",
        "testTuple=(1,2,33,55,6,55)\n",
        "55 in testTuple"
      ]
    },
    {
      "cell_type": "code",
      "execution_count": 68,
      "metadata": {
        "colab": {
          "base_uri": "https://localhost:8080/",
          "height": 228
        },
        "id": "KbYu0VLjjy2P",
        "outputId": "53ff2731-290b-41e7-8238-54d93a774474"
      },
      "outputs": [
        {
          "output_type": "stream",
          "name": "stdout",
          "text": [
            "('NPower', 'JDA', 'Tuesday', 30, 3, 2021)\n",
            "1\n"
          ]
        },
        {
          "output_type": "error",
          "ename": "ValueError",
          "evalue": "tuple.index(x): x not in tuple",
          "traceback": [
            "\u001b[0;31m---------------------------------------------------------------------------\u001b[0m",
            "\u001b[0;31mValueError\u001b[0m                                Traceback (most recent call last)",
            "\u001b[0;32m<ipython-input-68-5403fefd6222>\u001b[0m in \u001b[0;36m<cell line: 5>\u001b[0;34m()\u001b[0m\n\u001b[1;32m      3\u001b[0m \u001b[0mprint\u001b[0m\u001b[0;34m(\u001b[0m\u001b[0mmyTuple\u001b[0m\u001b[0;34m.\u001b[0m\u001b[0mindex\u001b[0m\u001b[0;34m(\u001b[0m\u001b[0;34m'JDA'\u001b[0m\u001b[0;34m)\u001b[0m\u001b[0;34m)\u001b[0m\u001b[0;34m\u001b[0m\u001b[0;34m\u001b[0m\u001b[0m\n\u001b[1;32m      4\u001b[0m \u001b[0;31m# Find the index of 'Coursera' in myTuple\u001b[0m\u001b[0;34m\u001b[0m\u001b[0;34m\u001b[0m\u001b[0m\n\u001b[0;32m----> 5\u001b[0;31m \u001b[0mprint\u001b[0m\u001b[0;34m(\u001b[0m\u001b[0mmyTuple\u001b[0m\u001b[0;34m.\u001b[0m\u001b[0mindex\u001b[0m\u001b[0;34m(\u001b[0m\u001b[0;34m'Coursera'\u001b[0m\u001b[0;34m)\u001b[0m\u001b[0;34m)\u001b[0m\u001b[0;34m\u001b[0m\u001b[0;34m\u001b[0m\u001b[0m\n\u001b[0m\u001b[1;32m      6\u001b[0m \u001b[0;31m# NOTE index doesn't work properly with nested tuples # Wrong output\u001b[0m\u001b[0;34m\u001b[0m\u001b[0;34m\u001b[0m\u001b[0m\n",
            "\u001b[0;31mValueError\u001b[0m: tuple.index(x): x not in tuple"
          ]
        }
      ],
      "source": [
        "#Q21 Find the index of JDA in myTuple\n",
        "print(myTuple)\n",
        "print(myTuple.index('JDA'))\n",
        "# Find the index of 'Coursera' in myTuple\n",
        "print(myTuple.index('Coursera'))\n",
        "# NOTE index doesn't work properly with nested tuples # Wrong output\n"
      ]
    },
    {
      "cell_type": "code",
      "execution_count": 69,
      "metadata": {
        "colab": {
          "base_uri": "https://localhost:8080/",
          "height": 158
        },
        "id": "ZbK36Qbcjy2Q",
        "outputId": "b160e505-e9b8-4171-a052-0a4c86312d0c"
      },
      "outputs": [
        {
          "output_type": "error",
          "ename": "IndexError",
          "evalue": "tuple index out of range",
          "traceback": [
            "\u001b[0;31m---------------------------------------------------------------------------\u001b[0m",
            "\u001b[0;31mIndexError\u001b[0m                                Traceback (most recent call last)",
            "\u001b[0;32m<ipython-input-69-2df6b20481f0>\u001b[0m in \u001b[0;36m<cell line: 2>\u001b[0;34m()\u001b[0m\n\u001b[1;32m      1\u001b[0m \u001b[0;31m#Q22 print index 8 from myTuple\u001b[0m\u001b[0;34m\u001b[0m\u001b[0;34m\u001b[0m\u001b[0m\n\u001b[0;32m----> 2\u001b[0;31m \u001b[0mprint\u001b[0m\u001b[0;34m(\u001b[0m\u001b[0mmyTuple\u001b[0m\u001b[0;34m[\u001b[0m\u001b[0;36m8\u001b[0m\u001b[0;34m]\u001b[0m\u001b[0;34m)\u001b[0m\u001b[0;34m\u001b[0m\u001b[0;34m\u001b[0m\u001b[0m\n\u001b[0m",
            "\u001b[0;31mIndexError\u001b[0m: tuple index out of range"
          ]
        }
      ],
      "source": [
        "#Q22 print index 8 from myTuple\n",
        "print(myTuple[8])"
      ]
    },
    {
      "cell_type": "code",
      "execution_count": 72,
      "metadata": {
        "colab": {
          "base_uri": "https://localhost:8080/"
        },
        "id": "73JO-YDVjy2Q",
        "outputId": "e3ca2193-fbd9-4bd6-ede2-2f138b2e10e9"
      },
      "outputs": [
        {
          "output_type": "stream",
          "name": "stdout",
          "text": [
            "('NPower', 'JDA', 'Tuesday', 30, 3, 2021)\n",
            "30\n",
            "Tuesday\n"
          ]
        }
      ],
      "source": [
        "#Q23 Get the 4th element from the begining of myTuple\n",
        "#and 4th element from last of a myTuple\n",
        "print(myTuple)\n",
        "print(myTuple[3])\n",
        "print(myTuple[-4])"
      ]
    },
    {
      "cell_type": "code",
      "execution_count": 73,
      "metadata": {
        "colab": {
          "base_uri": "https://localhost:8080/"
        },
        "id": "ktLDREefjy2Q",
        "outputId": "95921331-a284-4a47-a4f5-c34a1c11be21"
      },
      "outputs": [
        {
          "output_type": "stream",
          "name": "stdout",
          "text": [
            "2\n"
          ]
        }
      ],
      "source": [
        "#Q24 Find how many times 55 appeared in testTuple [Hint: Use method count()]\n",
        "print(testTuple.count(55))"
      ]
    }
  ],
  "metadata": {
    "kernelspec": {
      "display_name": "Python 3 (ipykernel)",
      "language": "python",
      "name": "python3"
    },
    "language_info": {
      "codemirror_mode": {
        "name": "ipython",
        "version": 3
      },
      "file_extension": ".py",
      "mimetype": "text/x-python",
      "name": "python",
      "nbconvert_exporter": "python",
      "pygments_lexer": "ipython3",
      "version": "3.9.12"
    },
    "colab": {
      "provenance": [],
      "include_colab_link": true
    }
  },
  "nbformat": 4,
  "nbformat_minor": 0
}