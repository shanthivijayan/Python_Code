{
  "nbformat": 4,
  "nbformat_minor": 0,
  "metadata": {
    "colab": {
      "provenance": [],
      "authorship_tag": "ABX9TyM4ZT+CEmO1Bbo7zKLMg4px",
      "include_colab_link": true
    },
    "kernelspec": {
      "name": "python3",
      "display_name": "Python 3"
    },
    "language_info": {
      "name": "python"
    }
  },
  "cells": [
    {
      "cell_type": "markdown",
      "metadata": {
        "id": "view-in-github",
        "colab_type": "text"
      },
      "source": [
        "<a href=\"https://colab.research.google.com/github/shanthivijayan/Python_Code/blob/main/Python_String.ipynb\" target=\"_parent\"><img src=\"https://colab.research.google.com/assets/colab-badge.svg\" alt=\"Open In Colab\"/></a>"
      ]
    },
    {
      "cell_type": "code",
      "execution_count": 26,
      "metadata": {
        "colab": {
          "base_uri": "https://localhost:8080/"
        },
        "id": "_pmmq8iTivA1",
        "outputId": "d388d9e4-d219-4816-8456-5c2296708cc4"
      },
      "outputs": [
        {
          "output_type": "stream",
          "name": "stdout",
          "text": [
            "15\n",
            "HARRY POTTER IS A BESTSELLER\n",
            "MIDDLE CHILDREN HAVE IT THE WORST\n",
            "Middle children have it the best\n"
          ]
        }
      ],
      "source": [
        "a,b=10,5\n",
        "print(a+b)\n",
        "POPSTAR = \"DIZZY DRAKE\"\n",
        "POPSTAR[3] #What is the result of the input POPSTAR[3]\n",
        "POPSTAR[9] #What input returns the result “K” ?\n",
        "POPSTAR[0:6] #What is the result of the input POPSTAR[0:6] ?\n",
        "POPSTAR[6:11] #What input returns the result “DRAKE” ?\n",
        "POPSTAR[4]#What are the index numbers of the letter Y and I?\n",
        "POPSTAR[1]\n",
        "POPSTAR[-4]#What is the result of the input POPSTAR[-4]?\n",
        "POPSTAR[8]#What input returns the result 'A'?\n",
        "POPSTAR[7:11]#What input returns the result \"RAKE\"?\n",
        "SUCCESS = \"MAMBA MENTALITY\"\n",
        "SUCCESS[::2]#Assuming positive index numbers, what is the result of the input SUCCESS[::2]\n",
        "SUCCESS[0:10:2]#What is the result of the input SUCCESS[0:10:2]\n",
        "SUCCESS[2:5:2]#What is the result of the input SUCCESS[2:5:2]\n",
        "SUCCESS[5:12:3]#What input returns the result “ NL” ? (*notice the space)\n",
        "SUCCESS[1:15:4]#What input returns the result “A TT” ? (*notice the space)\n",
        "BOOK= \"HARRY POTTER\"\n",
        "COMMENT=\"IS A BESTSELLER\"\n",
        "print(BOOK+' '+COMMENT)#If we want to create a new string that reads, “HARRY POTTER\n",
        "                        #IS A BESTSELLER” what input would we use?\n",
        "Siblings = \"Middle children have it the worst\"\n",
        "#Convert the string to upper case letters and store it in a new variable called Siblings2\n",
        "Siblings2=Siblings.upper()\n",
        "print(Siblings2)\n",
        "#Replace the word ‘worst’ with ‘best’ and store the new string in the variable Siblings3\n",
        "Siblings3=Siblings.replace('worst','best')\n",
        "print(Siblings3)"
      ]
    },
    {
      "cell_type": "code",
      "source": [],
      "metadata": {
        "id": "-S2Y5CN32buZ"
      },
      "execution_count": null,
      "outputs": []
    },
    {
      "cell_type": "code",
      "source": [],
      "metadata": {
        "id": "4by5TFNc2cLE"
      },
      "execution_count": null,
      "outputs": []
    }
  ]
}