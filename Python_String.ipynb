{
  "nbformat": 4,
  "nbformat_minor": 0,
  "metadata": {
    "colab": {
      "provenance": [],
      "authorship_tag": "ABX9TyNOX928cggml0DiPjdYsx9s",
      "include_colab_link": true
    },
    "kernelspec": {
      "name": "python3",
      "display_name": "Python 3"
    },
    "language_info": {
      "name": "python"
    }
  },
  "cells": [
    {
      "cell_type": "markdown",
      "metadata": {
        "id": "view-in-github",
        "colab_type": "text"
      },
      "source": [
        "<a href=\"https://colab.research.google.com/github/shanthivijayan/Python_Code/blob/main/Python_String.ipynb\" target=\"_parent\"><img src=\"https://colab.research.google.com/assets/colab-badge.svg\" alt=\"Open In Colab\"/></a>"
      ]
    },
    {
      "cell_type": "code",
      "execution_count": 3,
      "metadata": {
        "colab": {
          "base_uri": "https://localhost:8080/"
        },
        "id": "_pmmq8iTivA1",
        "outputId": "e230fbb6-617a-4420-fa58-d55cd9285fe1"
      },
      "outputs": [
        {
          "output_type": "stream",
          "name": "stdout",
          "text": [
            "3.10.12 (main, Nov 20 2023, 15:14:05) [GCC 11.4.0]\n",
            "t\n",
            "o\n",
            "tomtomtom\n",
            "el\n",
            "Incompre\n",
            "ncom\n",
            "comp\n",
            "\n",
            "19\n",
            "y\n",
            "I\n",
            "True\n",
            "False\n",
            "True\n",
            "True\n",
            "True\n",
            "False\n",
            "False\n",
            "True\n",
            "True\n",
            "False\n",
            "False\n",
            "False\n",
            "False\n",
            "True\n",
            "True\n",
            "1\n",
            "8\n",
            "11\n",
            "Xenotransplantation\n",
            "XENOTRANSPLANTATION\n",
            "xenotransplantation\n",
            "xENOTRANSPLANTATION\n",
            "Replacetransplantation\n",
            "HARRY POTTER IS A BESTSELLER\n",
            "MIDDLE CHILDREN HAVE IT THE WORST\n",
            "Middle children have it the best\n",
            "3\n",
            "30\n",
            "-1\n",
            "We Can Do Anything We Set Our Minds To\n"
          ]
        }
      ],
      "source": [
        "#String and String Operations\n",
        "import sys\n",
        "print(sys.version)\n",
        "name = \"tom\"\n",
        "print(name[0])\n",
        "print(name[1])\n",
        "print(name*3)\n",
        "#Slicing String\n",
        "\n",
        "s = \"Welcome\"\n",
        "print( s[1:3])\n",
        "\n",
        "a = \"Incomprehensibility\"#slicing\n",
        "print(a[0:8])\n",
        "print(a[1:5])\n",
        "print(a[2:6])\n",
        "print(a[-1:3])\n",
        "\n",
        "print(len(a))#string function\n",
        "print(max(a))\n",
        "print(min(a))\n",
        "\n",
        "s1 = \"Welcome\"\n",
        "b=\"come\" in s1 #in, not in\n",
        "print(b)\n",
        "print(\"come\" not in s1)\n",
        "\n",
        "#testing on string\n",
        "a = \"Trichotillomania\"\n",
        "print(a.isalnum())\n",
        "print(a.isalpha())\n",
        "print(a.isascii())\n",
        "print(a.isdecimal())\n",
        "print(a.isdigit())\n",
        "print(a.isidentifier())\n",
        "print(a.isprintable())\n",
        "print(a.isupper())\n",
        "print(a.isspace())\n",
        "print(a.islower())\n",
        "\n",
        "#searching string\n",
        "b = \"Tergiversation\"\n",
        "print(b.endswith(\"giver\"))\n",
        "print(b.endswith(\"tion\"))\n",
        "print(b.startswith(\"Ter\"))\n",
        "print(b.count(\"giver\"))\n",
        "print(b.find(\"sation\"))\n",
        "print(b.rfind(\"ion\"))\n",
        "\n",
        "#converting\n",
        "c = \"Xenotransplantation\"\n",
        "print(c.capitalize())\n",
        "print(c.upper())\n",
        "print(c.lower())\n",
        "print(c.swapcase())\n",
        "print(c.replace(\"Xeno\",\"Replace\"))\n",
        "\n",
        "POPSTAR = \"DIZZY DRAKE\"\n",
        "POPSTAR[3] #What is the result of the input POPSTAR[3]\n",
        "POPSTAR[9] #What input returns the result “K” ?\n",
        "POPSTAR[0:6] #What is the result of the input POPSTAR[0:6] ?\n",
        "POPSTAR[6:11] #What input returns the result “DRAKE” ?\n",
        "POPSTAR[4]#What are the index numbers of the letter Y and I?\n",
        "POPSTAR[1]\n",
        "POPSTAR[-4]#What is the result of the input POPSTAR[-4]?\n",
        "POPSTAR[8]#What input returns the result 'A'?\n",
        "POPSTAR[7:11]#What input returns the result \"RAKE\"?\n",
        "SUCCESS = \"MAMBA MENTALITY\"\n",
        "SUCCESS[::2]#Assuming positive index numbers, what is the result of the input SUCCESS[::2]\n",
        "SUCCESS[0:10:2]#What is the result of the input SUCCESS[0:10:2]\n",
        "SUCCESS[2:5:2]#What is the result of the input SUCCESS[2:5:2]\n",
        "SUCCESS[5:12:3]#What input returns the result “ NL” ? (*notice the space)\n",
        "SUCCESS[1:15:4]#What input returns the result “A TT” ? (*notice the space)\n",
        "BOOK= \"HARRY POTTER\"\n",
        "COMMENT=\"IS A BESTSELLER\"\n",
        "print(BOOK+' '+COMMENT)#If we want to create a new string that reads, “HARRY POTTER\n",
        "                        #IS A BESTSELLER” what input would we use?\n",
        "\n",
        "Siblings = \"Middle children have it the worst\"\n",
        "#Convert the string to upper case letters and store it in a new variable called Siblings2\n",
        "Siblings2=Siblings.upper()\n",
        "print(Siblings2)\n",
        "\n",
        "#Replace the word ‘worst’ with ‘best’ and store the new string in the variable Siblings3\n",
        "Siblings3=Siblings.replace('worst','best')\n",
        "print(Siblings3)\n",
        "truth= \"We can do anything we set our minds to\"\n",
        "\n",
        "#Assuming positive index numbers, what is the result of the input truth.find(‘can’) ? What does this result mean?\n",
        "print(truth.find('can'))\n",
        "print(truth.find('minds'))\n",
        "print(truth.find('believe'))\n",
        "\n",
        "print(truth.title())# capitalize every first letter of word in a string\n"
      ]
    },
    {
      "cell_type": "code",
      "source": [],
      "metadata": {
        "id": "-S2Y5CN32buZ"
      },
      "execution_count": null,
      "outputs": []
    },
    {
      "cell_type": "code",
      "source": [],
      "metadata": {
        "id": "4by5TFNc2cLE"
      },
      "execution_count": null,
      "outputs": []
    }
  ]
}