{
  "nbformat": 4,
  "nbformat_minor": 0,
  "metadata": {
    "colab": {
      "provenance": [],
      "authorship_tag": "ABX9TyOQYNwezVz1Sl/ech7shcc1",
      "include_colab_link": true
    },
    "kernelspec": {
      "name": "python3",
      "display_name": "Python 3"
    },
    "language_info": {
      "name": "python"
    }
  },
  "cells": [
    {
      "cell_type": "markdown",
      "metadata": {
        "id": "view-in-github",
        "colab_type": "text"
      },
      "source": [
        "<a href=\"https://colab.research.google.com/github/shanthivijayan/Python_Code/blob/main/Numpy.ipynb\" target=\"_parent\"><img src=\"https://colab.research.google.com/assets/colab-badge.svg\" alt=\"Open In Colab\"/></a>"
      ]
    },
    {
      "cell_type": "code",
      "execution_count": 16,
      "metadata": {
        "colab": {
          "base_uri": "https://localhost:8080/"
        },
        "id": "7T-hRU2x_dmT",
        "outputId": "c77925e6-86cf-47fc-f8e6-e6d2bcd449cd"
      },
      "outputs": [
        {
          "output_type": "stream",
          "name": "stdout",
          "text": [
            "a[0]: 0\n",
            "a[1]: 1\n",
            "a[2]: 2\n",
            "a[3]: 3\n",
            "a[4]: 4\n",
            "1.25.2\n",
            "[2 4]\n",
            "[1 2 3 4]\n",
            "[5 6 7]\n",
            "[2 3 4 5]\n",
            "[2 4 6 8]\n"
          ]
        }
      ],
      "source": [
        "# import numpy library\n",
        "\n",
        "import numpy as np\n",
        "# Create a numpy array\n",
        "\n",
        "a = np.array([0, 1, 2, 3, 4])\n",
        "a\n",
        "# Print each element\n",
        "\n",
        "print(\"a[0]:\", a[0])\n",
        "print(\"a[1]:\", a[1])\n",
        "print(\"a[2]:\", a[2])\n",
        "print(\"a[3]:\", a[3])\n",
        "print(\"a[4]:\", a[4])\n",
        "print(np.__version__)\n",
        "# Check the type of the array\n",
        "\n",
        "type(a)\n",
        "# Check the type of the values stored in numpy array\n",
        "\n",
        "a.dtype\n",
        "# Create numpy array\n",
        "\n",
        "c = np.array([20, 1, 2, 3, 4])\n",
        "c\n",
        "# Assign the first element to 100\n",
        "\n",
        "c[0] = 100\n",
        "c\n",
        "# Slicing the numpy array\n",
        "\n",
        "d = c[1:4]\n",
        "d\n",
        "# Set the fourth element and fifth element to 300 and 400\n",
        "\n",
        "c[3:5] = 300, 400\n",
        "c\n",
        "arr = np.array([1, 2, 3, 4, 5, 6, 7])\n",
        "\n",
        "print(arr[1:5:2])#[start:end:step]\n",
        "print(arr[:4])#If we don't pass start its considered 0\n",
        "print(arr[4:])#If we don't pass end it considers till the length of array.\n",
        "print(arr[1:5:])#If we don't pass step its considered 1\n",
        "#Print the even elements in the given array.\n",
        "arr = np.array([1, 2, 3, 4, 5, 6, 7, 8])\n",
        "# Enter your code here\n",
        "print(arr[1:8:2])\n"
      ]
    },
    {
      "cell_type": "code",
      "source": [],
      "metadata": {
        "id": "WF9smxU2CUVj"
      },
      "execution_count": null,
      "outputs": []
    },
    {
      "cell_type": "code",
      "source": [],
      "metadata": {
        "id": "2iDT7hvsCKT5"
      },
      "execution_count": null,
      "outputs": []
    }
  ]
}