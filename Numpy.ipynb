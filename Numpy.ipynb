{
  "nbformat": 4,
  "nbformat_minor": 0,
  "metadata": {
    "colab": {
      "provenance": [],
      "authorship_tag": "ABX9TyMUJmPmdXlwsM0EpwAfn6gc",
      "include_colab_link": true
    },
    "kernelspec": {
      "name": "python3",
      "display_name": "Python 3"
    },
    "language_info": {
      "name": "python"
    }
  },
  "cells": [
    {
      "cell_type": "markdown",
      "metadata": {
        "id": "view-in-github",
        "colab_type": "text"
      },
      "source": [
        "<a href=\"https://colab.research.google.com/github/shanthivijayan/Python_Code/blob/main/Numpy.ipynb\" target=\"_parent\"><img src=\"https://colab.research.google.com/assets/colab-badge.svg\" alt=\"Open In Colab\"/></a>"
      ]
    },
    {
      "cell_type": "code",
      "execution_count": 53,
      "metadata": {
        "colab": {
          "base_uri": "https://localhost:8080/"
        },
        "id": "7T-hRU2x_dmT",
        "outputId": "d610075a-5899-4dd2-8714-301ecf0a4b1c"
      },
      "outputs": [
        {
          "output_type": "stream",
          "name": "stdout",
          "text": [
            "a[0]: 0\n",
            "a[1]: 1\n",
            "a[2]: 2\n",
            "a[3]: 3\n",
            "a[4]: 4\n",
            "1.25.2\n",
            "[2 4]\n",
            "[1 2 3 4]\n",
            "[5 6 7]\n",
            "[2 3 4 5]\n",
            "[2 4 6 8]\n",
            "1\n",
            "2\n",
            "[-2.  -1.5 -1.  -0.5  0.   0.5  1.   1.5  2. ]\n",
            "3.141592653589793\n",
            "even for array1 [2 4]\n",
            "odd for array1 [1 3 5]\n",
            "even for array2 [ 6  8 10]\n",
            "odd for array2 [7 9]\n"
          ]
        }
      ],
      "source": [
        "# import numpy library\n",
        "\n",
        "import numpy as np\n",
        "# Create a numpy array\n",
        "\n",
        "a = np.array([0, 1, 2, 3, 4])\n",
        "a\n",
        "# Print each element\n",
        "\n",
        "print(\"a[0]:\", a[0])\n",
        "print(\"a[1]:\", a[1])\n",
        "print(\"a[2]:\", a[2])\n",
        "print(\"a[3]:\", a[3])\n",
        "print(\"a[4]:\", a[4])\n",
        "print(np.__version__)\n",
        "# Check the type of the array\n",
        "\n",
        "type(a)\n",
        "# Check the type of the values stored in numpy array\n",
        "\n",
        "a.dtype\n",
        "# Create numpy array\n",
        "\n",
        "c = np.array([20, 1, 2, 3, 4])\n",
        "c\n",
        "# Assign the first element to 100\n",
        "\n",
        "c[0] = 100\n",
        "c\n",
        "# Slicing the numpy array\n",
        "\n",
        "d = c[1:4]\n",
        "d\n",
        "# Set the fourth element and fifth element to 300 and 400\n",
        "\n",
        "c[3:5] = 300, 400\n",
        "c\n",
        "arr = np.array([1, 2, 3, 4, 5, 6, 7])\n",
        "\n",
        "print(arr[1:5:2])#[start:end:step]\n",
        "print(arr[:4])#If we don't pass start its considered 0\n",
        "print(arr[4:])#If we don't pass end it considers till the length of array.\n",
        "print(arr[1:5:])#If we don't pass step its considered 1\n",
        "#Print the even elements in the given array.\n",
        "arr = np.array([1, 2, 3, 4, 5, 6, 7, 8])\n",
        "# Enter your code here\n",
        "print(arr[1:8:2])\n",
        "# Get the size of numpy array\n",
        "a.size\n",
        "# Get the number of dimensions of numpy array\n",
        "a.ndim\n",
        "# Get the shape/size of numpy array\n",
        "a.shape\n",
        "#Numpy Statistical Functions\n",
        "# Get the mean of numpy array\n",
        "mean = a.mean()\n",
        "mean\n",
        "# Get the standard deviation of numpy array\n",
        "standard_deviation=a.std()\n",
        "standard_deviation\n",
        "# Get the biggest value in the numpy array\n",
        "max_a = a.max()\n",
        "max_a\n",
        "# Get the smallest value in the numpy array\n",
        "min_a = a.min()\n",
        "min_a\n",
        "#Numpy Array Operations\n",
        "u = np.array([1, 0])\n",
        "v = np.array([0, 1])\n",
        "# Numpy Array Addition\n",
        "z = np.add(u, v)\n",
        "z\n",
        "# Numpy Array Subtraction\n",
        "z = np.subtract(u, v)\n",
        "z\n",
        "# Numpy Array Mulitiplication\n",
        "z = np.multiply(u, v)\n",
        "z\n",
        "# Numpy Array Division\n",
        "a=[6,8]\n",
        "b=[2,4]\n",
        "c = np.divide(a, b)\n",
        "c\n",
        "#dot product multiply the vaules and add those values provide single value\n",
        "X = np.array([1, 2])\n",
        "Y = np.array([3, 2])\n",
        "# Calculate the dot product\n",
        "np.dot(X, Y)\n",
        "#Elements of X\n",
        "print(X[0])\n",
        "print(X[1])\n",
        "#Linspace returns evenly spaced numbers over a specified interval.\n",
        "# Makeup a numpy array within [-2, 2] and 5 elements\n",
        "np.linspace(-2, 2, num=5)\n",
        "\n",
        "# Make a numpy array within [-2, 2] and 9 elements\n",
        "print(np.linspace(-2, 2, num=9))\n",
        "#Adding Constant to a Numpy Array\n",
        "# Create a constant to numpy array\n",
        "u = np.array([1, 2, 3, -1])\n",
        "# Add the constant to array\n",
        "u + 5\n",
        "#Mathematical Functions\n",
        "# The value of pi\n",
        "print(np.pi)\n",
        "arr1 = np.array([1, 2, 3, 4, 5])\n",
        "arr2 = np.array([6, 7, 8, 9, 10])\n",
        "\n",
        "#Starting index in slice is 1 as first even element(2) in array1 is at index 1\n",
        "even_arr1 = arr1[1:5:2]\n",
        "print(\"even for array1\",even_arr1)\n",
        "\n",
        "#Starting index in slice is 0 as first odd element(1) in array1 is at index 0\n",
        "odd_arr1=arr1[0:5:2]\n",
        "print(\"odd for array1\",odd_arr1)\n",
        "\n",
        "#Starting index in slice is 0 as first even element(6) in array2 is at index 0\n",
        "even_arr2 = arr2[0:5:2]\n",
        "print(\"even for array2\",even_arr2)\n",
        "\n",
        "\n",
        "#Starting index in slice is 1 as first odd element(7) in array2 is at index 1\n",
        "odd_arr2=arr2[1:5:2]\n",
        "print(\"odd for array2\",odd_arr2)"
      ]
    },
    {
      "cell_type": "markdown",
      "source": [
        "What is Numpy?\n",
        "NumPy is a Python library used for working with arrays, linear algebra, fourier transform, and matrices. NumPy stands for Numerical Python and it is an open source project. The array object in NumPy is called ndarray, it provides a lot of supporting functions that make working with ndarray very easy.\n",
        "\n",
        "Arrays are very frequently used in data science, where speed and resources are very important.\n",
        "\n",
        "NumPy is usually imported under the np alias."
      ],
      "metadata": {
        "id": "Q7SCPCkxYr4L"
      }
    },
    {
      "cell_type": "code",
      "source": [],
      "metadata": {
        "id": "WF9smxU2CUVj"
      },
      "execution_count": null,
      "outputs": []
    },
    {
      "cell_type": "code",
      "source": [],
      "metadata": {
        "id": "2iDT7hvsCKT5"
      },
      "execution_count": null,
      "outputs": []
    }
  ]
}