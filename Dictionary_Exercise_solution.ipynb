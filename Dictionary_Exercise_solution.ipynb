{
  "cells": [
    {
      "cell_type": "markdown",
      "metadata": {
        "id": "view-in-github",
        "colab_type": "text"
      },
      "source": [
        "<a href=\"https://colab.research.google.com/github/shanthivijayan/Python_Code/blob/main/Dictionary_Exercise_solution.ipynb\" target=\"_parent\"><img src=\"https://colab.research.google.com/assets/colab-badge.svg\" alt=\"Open In Colab\"/></a>"
      ]
    },
    {
      "cell_type": "code",
      "execution_count": null,
      "id": "e80c6c7a",
      "metadata": {
        "id": "e80c6c7a",
        "outputId": "3e7d976b-dcf7-4119-8d63-1ce92e52dfa7"
      },
      "outputs": [
        {
          "data": {
            "text/plain": [
              "{'AWK': 'Abdul Wahid Khudayar',\n",
              " 'AR': 'Addy Rose',\n",
              " 'AO': 'Anuoluwapo Oluseyi',\n",
              " 'AKH': 'Aravindh Kuppusamy Haridoss',\n",
              " 'CH': 'Carlo Halnin',\n",
              " 'JC': 'Juned Chhiboo',\n",
              " 'CAJ': 'Cici Ann Joji',\n",
              " 'DP': 'DHRUVKUMAR PATEL',\n",
              " 'EK': 'Erkan Kumesogut',\n",
              " 'ER': 'Exaltacao Rodrigues',\n",
              " 'FT': 'fatma tuncalan',\n",
              " 'HK': 'harpreet kaur',\n",
              " 'HOG': 'Harun Omar-Godane',\n",
              " 'HG': 'Hossain Ghahraloud',\n",
              " 'JT': 'Jesso Thomas',\n",
              " 'KM': 'Kamiar Mehmannavazan',\n",
              " 'KS': 'Karthik Sai',\n",
              " 'KGB': 'Kwabena Gyasi-Boateng',\n",
              " 'LR': 'L Reetika',\n",
              " 'MA': 'Meelad Armani',\n",
              " 'MM': 'Marwa Musa',\n",
              " 'MD': 'Mohammad Dabbour',\n",
              " 'PR': 'Pouria Raziei',\n",
              " 'RT': 'Rohan Thomas',\n",
              " 'RFT': 'Robin Francis Thomas',\n",
              " 'RS': 'Ronit Soni',\n",
              " 'SB': 'Sameeha Bala',\n",
              " 'SK': 'Supriya Kanda',\n",
              " 'WC': 'Weslie Chung',\n",
              " 'YFL': 'Ying Fei Li',\n",
              " 'PM': 'Poojan Modi',\n",
              " 'AH': 'Alexander Hailu',\n",
              " 'ES': 'Ekaterina Shalygina',\n",
              " 'NT': 'Nevin Tomy',\n",
              " 'JH': 'Jason Huang',\n",
              " 'A': 'Anindita',\n",
              " 'VP': 'Vrunda Patel',\n",
              " 'SP': 'Sravan Pingali'}"
            ]
          },
          "execution_count": 1,
          "metadata": {},
          "output_type": "execute_result"
        }
      ],
      "source": [
        "#Create a dictionary for all participants in the JDA program.\n",
        "#Keys should be the first letter in their names, Values should be their names.\n",
        "#[Hint] dic={\"l\":(Leul),\"J\":(Jerry,Jainam)........}\n",
        "dic = {\n",
        "\"AWK\":\"Abdul Wahid Khudayar\",\n",
        "\"AR\":\"Addy Rose\",\n",
        "\"AO\":\"Anuoluwapo Oluseyi\",\n",
        "\"AKH\":\"Aravindh Kuppusamy Haridoss\",\n",
        "\"CH\":\"Carlo Halnin\",\n",
        "\"JC\":\"Juned Chhiboo\",\n",
        "\"CAJ\":\"Cici Ann Joji\",\n",
        "\"DP\":\"DHRUVKUMAR PATEL\",\n",
        "\"EK\":\"Erkan Kumesogut\",\n",
        "\"ER\":\"Exaltacao Rodrigues\",\n",
        "\"FT\":\"fatma tuncalan\",\n",
        "\"HK\":\"harpreet kaur\",\n",
        "\"HOG\":\"Harun Omar-Godane\",\n",
        "\"HG\":\"Hossain Ghahraloud\",\n",
        "\"JT\":\"Jesso Thomas\",\n",
        "\"KM\":\"Kamiar Mehmannavazan\",\n",
        "\"KS\":\"Karthik Sai\",\n",
        "\"KGB\":\"Kwabena Gyasi-Boateng\",\n",
        "\"LR\":\"L Reetika\",\n",
        "\"MA\":\"mariya amtullah\",\n",
        "\"MM\":\"Marwa Musa\",\n",
        "\"MA\":\"Meelad Armani\",\n",
        "\"MD\":\"Miguel Diaz\",\n",
        "\"MD\":\"Mohammad Dabbour\",\n",
        "\"PR\":\"Pouria Raziei\",\n",
        "\"RT\":\"Reena Thakur\",\n",
        "\"RFT\":\"Robin Francis Thomas\",\n",
        "\"RT\":\"Rohan Thomas\",\n",
        "\"RS\":\"Ronit Soni\",\n",
        "\"SB\":\"Sameeha Bala\",\n",
        "\"SK\":\"Supriya Kanda\",\n",
        "\"WC\":\"Weslie Chung\",\n",
        "\"YFL\":\"Ying Fei Li\",\n",
        "\"PM\":\"Poojan Modi\",\n",
        "\"AH\":\"Alexander Hailu\",\n",
        "\"ES\":\"Ekaterina Shalygina\",\n",
        "\"NT\":\"Nevin Tomy\",\n",
        "\"JH\":\"Jason Huang\",\n",
        "\"A\":\"Anindita\",\n",
        "\"VP\":\"Vrunda Patel\",\n",
        "\"SP\":\"Sravan Pingali\"\n",
        "}\n",
        "dic"
      ]
    },
    {
      "cell_type": "code",
      "execution_count": null,
      "id": "577395f1",
      "metadata": {
        "id": "577395f1",
        "outputId": "5ece3453-e4d7-4346-d3fb-5b0c57476447"
      },
      "outputs": [
        {
          "data": {
            "text/plain": [
              "dict_keys(['AWK', 'AR', 'AO', 'AKH', 'CH', 'JC', 'CAJ', 'DP', 'EK', 'ER', 'FT', 'HK', 'HOG', 'HG', 'JT', 'KM', 'KS', 'KGB', 'LR', 'MA', 'MM', 'MD', 'PR', 'RT', 'RFT', 'RS', 'SB', 'SK', 'WC', 'YFL', 'PM', 'AH', 'ES', 'NT', 'JH', 'A', 'VP', 'SP'])"
            ]
          },
          "execution_count": 2,
          "metadata": {},
          "output_type": "execute_result"
        }
      ],
      "source": [
        "#Q2 What are the keys of your dictionary\n",
        "dic.keys()"
      ]
    },
    {
      "cell_type": "code",
      "execution_count": null,
      "id": "dbac1d2a",
      "metadata": {
        "id": "dbac1d2a",
        "outputId": "2fb644d1-da15-44c4-95bc-a3a4f473bbe0"
      },
      "outputs": [
        {
          "data": {
            "text/plain": [
              "dict_values(['Abdul Wahid Khudayar', 'Addy Rose', 'Anuoluwapo Oluseyi', 'Aravindh Kuppusamy Haridoss', 'Carlo Halnin', 'Juned Chhiboo', 'Cici Ann Joji', 'DHRUVKUMAR PATEL', 'Erkan Kumesogut', 'Exaltacao Rodrigues', 'fatma tuncalan', 'harpreet kaur', 'Harun Omar-Godane', 'Hossain Ghahraloud', 'Jesso Thomas', 'Kamiar Mehmannavazan', 'Karthik Sai', 'Kwabena Gyasi-Boateng', 'L Reetika', 'Meelad Armani', 'Marwa Musa', 'Mohammad Dabbour', 'Pouria Raziei', 'Rohan Thomas', 'Robin Francis Thomas', 'Ronit Soni', 'Sameeha Bala', 'Supriya Kanda', 'Weslie Chung', 'Ying Fei Li', 'Poojan Modi', 'Alexander Hailu', 'Ekaterina Shalygina', 'Nevin Tomy', 'Jason Huang', 'Anindita', 'Vrunda Patel', 'Sravan Pingali'])"
            ]
          },
          "execution_count": 3,
          "metadata": {},
          "output_type": "execute_result"
        }
      ],
      "source": [
        "#Q3 What are the values of your dictionary\n",
        "dic.values()"
      ]
    },
    {
      "cell_type": "code",
      "execution_count": null,
      "id": "bf7a7957",
      "metadata": {
        "id": "bf7a7957",
        "outputId": "26fd8695-17d4-4013-8062-39fb1dd09d84"
      },
      "outputs": [
        {
          "data": {
            "text/plain": [
              "{'CH': 'Carlo Halnin',\n",
              " 'CAJ': 'Cici Ann Joji',\n",
              " 'AWK': 'Abdul Wahid Khudayar',\n",
              " 'AR': 'Addy Rose',\n",
              " 'AO': 'Anuoluwapo Oluseyi',\n",
              " 'AKH': 'Aravindh Kuppusamy Haridoss',\n",
              " 'AH': 'Alexander Hailu',\n",
              " 'A': 'Anindita',\n",
              " 'MA': 'Meelad Armani',\n",
              " 'MM': 'Marwa Musa',\n",
              " 'MD': 'Mohammad Dabbour',\n",
              " 'JC': 'Juned Chhiboo',\n",
              " 'JT': 'Jesso Thomas',\n",
              " 'JH': 'Jason Huang'}"
            ]
          },
          "execution_count": 4,
          "metadata": {},
          "output_type": "execute_result"
        }
      ],
      "source": [
        "#Q4 Find participant's names that start with J,I,M,C,A\n",
        "dic1 ={k: v for k, v in dic.items() if k.startswith(\"C\")}\n",
        "dic2 ={k: v for k, v in dic.items() if k.startswith(\"A\")}\n",
        "dic3={k: v for k, v in dic.items() if k.startswith(\"M\")}\n",
        "dic4={k: v for k, v in dic.items() if k.startswith(\"I\")}\n",
        "dic5={k: v for k, v in dic.items() if k.startswith(\"J\")}\n",
        "dic1.update(dic2)\n",
        "dic1.update(dic3)\n",
        "dic1.update(dic4)\n",
        "dic1.update(dic5)\n",
        "dic1"
      ]
    },
    {
      "cell_type": "code",
      "execution_count": null,
      "id": "a6d3c159",
      "metadata": {
        "id": "a6d3c159",
        "outputId": "7c56fb4d-9d94-453a-eeda-2db8ef40857a"
      },
      "outputs": [
        {
          "data": {
            "text/plain": [
              "{'AWK': 'Abdul Wahid Khudayar',\n",
              " 'AR': 'Addy Rose',\n",
              " 'AO': 'Anuoluwapo Oluseyi',\n",
              " 'AKH': 'Aravindh Kuppusamy Haridoss',\n",
              " 'CH': 'Carlo Halnin',\n",
              " 'JC': 'Juned Chhiboo',\n",
              " 'CAJ': 'Cici Ann Joji',\n",
              " 'DP': 'DHRUVKUMAR PATEL',\n",
              " 'EK': 'Erkan Kumesogut',\n",
              " 'ER': 'Exaltacao Rodrigues',\n",
              " 'FT': 'fatma tuncalan',\n",
              " 'HK': 'harpreet kaur',\n",
              " 'HOG': 'Harun Omar-Godane',\n",
              " 'HG': 'Hossain Ghahraloud',\n",
              " 'JT': 'Jesso Thomas',\n",
              " 'KM': 'Kamiar Mehmannavazan',\n",
              " 'KS': 'Karthik Sai',\n",
              " 'KGB': 'Kwabena Gyasi-Boateng',\n",
              " 'LR': 'L Reetika',\n",
              " 'MA': 'Meelad Armani',\n",
              " 'MM': 'Marwa Musa',\n",
              " 'MD': 'Mohammad Dabbour',\n",
              " 'PR': 'Pouria Raziei',\n",
              " 'RT': 'Rohan Thomas',\n",
              " 'RFT': 'Robin Francis Thomas',\n",
              " 'RS': 'Ronit Soni',\n",
              " 'SB': 'Sameeha Bala',\n",
              " 'SK': 'Supriya Kanda',\n",
              " 'WC': 'Weslie Chung',\n",
              " 'YFL': 'Ying Fei Li',\n",
              " 'PM': 'Poojan Modi',\n",
              " 'AH': 'Alexander Hailu',\n",
              " 'ES': 'Ekaterina Shalygina',\n",
              " 'NT': 'Nevin Tomy',\n",
              " 'JH': 'Jason Huang',\n",
              " 'A': 'Anindita',\n",
              " 'VP': 'Vrunda Patel',\n",
              " 'SP': 'Sravan Pingali',\n",
              " 'K,PD': 'Kristina'}"
            ]
          },
          "execution_count": 5,
          "metadata": {},
          "output_type": "execute_result"
        }
      ],
      "source": [
        "#Q5 Add the following to your dictionary\n",
        "# Key<(K,PD)>, Value<(Kristina)>\n",
        "dic_newitem = {\"K,PD\":\"Kristina\"}\n",
        "dic.update(dic_newitem)\n",
        "dic"
      ]
    },
    {
      "cell_type": "code",
      "execution_count": null,
      "id": "56a27cb2",
      "metadata": {
        "id": "56a27cb2",
        "outputId": "b2119cfc-1941-4d94-c900-1e776190ab09"
      },
      "outputs": [
        {
          "data": {
            "text/plain": [
              "39"
            ]
          },
          "execution_count": 6,
          "metadata": {},
          "output_type": "execute_result"
        }
      ],
      "source": [
        "#Q6 Find the length of your dictionary\n",
        "len(dic)"
      ]
    },
    {
      "cell_type": "code",
      "execution_count": null,
      "id": "30a59196",
      "metadata": {
        "id": "30a59196",
        "outputId": "9aca24a7-c398-46e8-c255-a850346f464c"
      },
      "outputs": [
        {
          "data": {
            "text/plain": [
              "{'AWK': 'Abdul Wahid Khudayar',\n",
              " 'AR': 'Addy Rose',\n",
              " 'AO': 'Anuoluwapo Oluseyi',\n",
              " 'AKH': 'Aravindh Kuppusamy Haridoss',\n",
              " 'CH': 'Carlo Halnin',\n",
              " 'JC': 'Juned Chhiboo',\n",
              " 'CAJ': 'Cici Ann Joji',\n",
              " 'DP': 'DHRUVKUMAR PATEL',\n",
              " 'EK': 'Erkan Kumesogut',\n",
              " 'ER': 'Exaltacao Rodrigues',\n",
              " 'FT': 'fatma tuncalan',\n",
              " 'HK': 'harpreet kaur',\n",
              " 'HOG': 'Harun Omar-Godane',\n",
              " 'HG': 'Hossain Ghahraloud',\n",
              " 'JT': 'Jesso Thomas',\n",
              " 'KM': 'Kamiar Mehmannavazan',\n",
              " 'KS': 'Karthik Sai',\n",
              " 'KGB': 'Kwabena Gyasi-Boateng',\n",
              " 'LR': 'L Reetika',\n",
              " 'MA': 'Meelad Armani',\n",
              " 'MM': 'Marwa Musa',\n",
              " 'MD': 'Mohammad Dabbour',\n",
              " 'PR': 'Pouria Raziei',\n",
              " 'RT': 'Rohan Thomas',\n",
              " 'RFT': 'Robin Francis Thomas',\n",
              " 'RS': 'Ronit Soni',\n",
              " 'SB': 'Sameeha Bala',\n",
              " 'SK': 'Supriya Kanda',\n",
              " 'WC': 'Weslie Chung',\n",
              " 'YFL': 'Ying Fei Li',\n",
              " 'PM': 'Poojan Modi',\n",
              " 'AH': 'Alexander Hailu',\n",
              " 'ES': 'Ekaterina Shalygina',\n",
              " 'NT': 'Nevin Tomy',\n",
              " 'JH': 'Jason Huang',\n",
              " 'A': 'Anindita',\n",
              " 'VP': 'Vrunda Patel',\n",
              " 'SP': 'Sravan Pingali',\n",
              " 'K,PD': 'Kristina',\n",
              " 'S': 'Instructor',\n",
              " 'J': ' '}"
            ]
          },
          "execution_count": 7,
          "metadata": {},
          "output_type": "execute_result"
        }
      ],
      "source": [
        "#Q7 Delete the following keys from your dictionary\n",
        "#Key<(S,Instructor)>\n",
        "#Key<J>\n",
        "dic_newitem = {\"S\":\"Instructor\",\"J\":\" \"}\n",
        "dic.update(dic_newitem)\n",
        "dic"
      ]
    },
    {
      "cell_type": "code",
      "execution_count": null,
      "id": "d3e8bd2a",
      "metadata": {
        "id": "d3e8bd2a",
        "outputId": "e987e951-9a87-4b0d-aa1c-3d598409210f"
      },
      "outputs": [
        {
          "data": {
            "text/plain": [
              "41"
            ]
          },
          "execution_count": 8,
          "metadata": {},
          "output_type": "execute_result"
        }
      ],
      "source": [
        "#Q9 Find the length of your dictionary\n",
        "len(dic)"
      ]
    },
    {
      "cell_type": "code",
      "execution_count": null,
      "id": "02ce21c7",
      "metadata": {
        "id": "02ce21c7"
      },
      "outputs": [],
      "source": [
        "#Q10 Create a new dictionary called synonyms_dic\n",
        "synonyms_dic={\" \":\" \"}\n"
      ]
    },
    {
      "cell_type": "code",
      "execution_count": null,
      "id": "aaa3f3e4",
      "metadata": {
        "id": "aaa3f3e4",
        "outputId": "c370e4b1-bebd-4ca6-82c3-c35b39134208"
      },
      "outputs": [
        {
          "data": {
            "text/plain": [
              "{'Bad': 'poor',\n",
              " 'Good': 'fine',\n",
              " 'Awesome': 'amazing',\n",
              " 'Cold': 'chilly',\n",
              " 'Easy': 'painless',\n",
              " 'Hard': 'firm',\n",
              " 'Big': 'massive',\n",
              " 'Small': 'tiny'}"
            ]
          },
          "execution_count": 10,
          "metadata": {},
          "output_type": "execute_result"
        }
      ],
      "source": [
        "#Q11 Add the synonyms of the following words to your dictionary\n",
        "#Bad, Good, Awesome, Cold, Easy, Hard, Big, Small\n",
        "synonyms_dic={\"Bad\":\"poor\", \"Good\":\"fine\", \"Awesome\":\"amazing\", \"Cold\":\"chilly\", \"Easy\":\"painless\", \"Hard\":\"firm\", \"Big\":\"massive\", \"Small\":\"tiny\"}\n",
        "synonyms_dic"
      ]
    },
    {
      "cell_type": "code",
      "execution_count": null,
      "id": "363a711e",
      "metadata": {
        "id": "363a711e",
        "outputId": "a4b6b07a-037e-472d-c1f2-cf3df3a4b741"
      },
      "outputs": [
        {
          "name": "stdout",
          "output_type": "stream",
          "text": [
            "amazing\n",
            "painless\n",
            "tiny\n",
            "None\n"
          ]
        }
      ],
      "source": [
        "#Q12 Use your dictionary to find the synonym of the following words\n",
        "# Awesome, Easy, Small, Old\n",
        "print(synonyms_dic.get(\"Awesome\"))\n",
        "print(synonyms_dic.get(\"Easy\"))\n",
        "print(synonyms_dic.get(\"Small\"))\n",
        "print(synonyms_dic.get(\"Old\"))"
      ]
    },
    {
      "cell_type": "code",
      "execution_count": null,
      "id": "b6504e58",
      "metadata": {
        "id": "b6504e58",
        "outputId": "0809a63b-2ab4-411a-b4f6-25da975dd519"
      },
      "outputs": [
        {
          "name": "stdout",
          "output_type": "stream",
          "text": [
            "dict_values(['poor', 'fine', 'amazing', 'chilly', 'painless', 'firm', 'massive', 'tiny'])\n"
          ]
        }
      ],
      "source": [
        "#Q13 Delete everything from synonyms_dic\n",
        "print(synonyms_dic.values())\n",
        "synonyms_dic.clear()"
      ]
    },
    {
      "cell_type": "code",
      "execution_count": null,
      "id": "708e6321",
      "metadata": {
        "id": "708e6321",
        "outputId": "d30d496d-8224-4a2c-e097-28ef4836b855"
      },
      "outputs": [
        {
          "name": "stdout",
          "output_type": "stream",
          "text": [
            "dict_values([])\n"
          ]
        }
      ],
      "source": [
        "#Q14 Print all values in synonyms_dic\n",
        "print(synonyms_dic.values())"
      ]
    },
    {
      "cell_type": "code",
      "execution_count": null,
      "id": "6555237e",
      "metadata": {
        "id": "6555237e",
        "outputId": "54543478-7d4c-4fe3-fe16-ebc208c53497"
      },
      "outputs": [
        {
          "name": "stdout",
          "output_type": "stream",
          "text": [
            "{'True': 1, 'False': 0}\n"
          ]
        }
      ],
      "source": [
        "#Q15 Convert the below two lists into dictionary\n",
        "#Keys=[\"True\",\"False\"]\n",
        "#Values=[1,0]\n",
        "\n",
        "Keys=[\"True\",\"False\"]\n",
        "Values=[1,0]\n",
        "\n",
        "dictionary = dict(zip(Keys, Values))\n",
        "\n",
        "print(dictionary)"
      ]
    },
    {
      "cell_type": "code",
      "execution_count": null,
      "id": "066708dd",
      "metadata": {
        "id": "066708dd",
        "outputId": "9445d132-dd4c-4b1f-fff7-469a6f05686c"
      },
      "outputs": [
        {
          "data": {
            "text/plain": [
              "4480"
            ]
          },
          "execution_count": 15,
          "metadata": {},
          "output_type": "execute_result"
        }
      ],
      "source": [
        "#Q16 Sum all the values in the following dictionary\n",
        "income={'Jan':1000,'Feb':1500,'Mar':980,'April':1000}\n",
        "sum(income.values())"
      ]
    },
    {
      "cell_type": "code",
      "execution_count": null,
      "id": "006008d7",
      "metadata": {
        "id": "006008d7",
        "outputId": "0da221b9-c591-43da-896b-3b55fb33ce61"
      },
      "outputs": [
        {
          "name": "stdout",
          "output_type": "stream",
          "text": [
            "encryption word of 110 is I\n",
            "encryption word of 101 is am\n",
            "encryption word of 10 is hungry\n",
            "encryption word of 1011 is and\n",
            "encryption word of 110 is I\n",
            "encryption word of 1001 is want\n",
            "encryption word of 1101 is food\n",
            "encryption word of 11011 is now\n"
          ]
        }
      ],
      "source": [
        "#Q17 Create the following dictionary encryption={10:\"hungry\", 101:\"am\", 110:\"I\",1011:\" \" 110:\" \" 1001:\" \" 1:\" \"}\n",
        "# What should be the decryption of the following code \"110 101 10 1011 110 1001 1\"\n",
        "encryption={10:\"hungry\", 101:\"am\", 1001:\"want\",1101:\"food\",110:\"I\",1011:\"and\", 11011:\"now\"}\n",
        "keys = [ 110, 101, 10, 1011, 110, 1001, 1101, 11011]\n",
        "\n",
        "for key in keys:\n",
        "    print(\"encryption word of {} is\".format(key) + \" \" + encryption[key])\n"
      ]
    }
  ],
  "metadata": {
    "kernelspec": {
      "display_name": "Python 3",
      "language": "python",
      "name": "python3"
    },
    "language_info": {
      "codemirror_mode": {
        "name": "ipython",
        "version": 3
      },
      "file_extension": ".py",
      "mimetype": "text/x-python",
      "name": "python",
      "nbconvert_exporter": "python",
      "pygments_lexer": "ipython3",
      "version": "3.8.8"
    },
    "colab": {
      "provenance": [],
      "include_colab_link": true
    }
  },
  "nbformat": 4,
  "nbformat_minor": 5
}