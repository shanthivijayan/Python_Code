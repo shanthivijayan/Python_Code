{
  "nbformat": 4,
  "nbformat_minor": 0,
  "metadata": {
    "colab": {
      "provenance": [],
      "authorship_tag": "ABX9TyMC+PVzsOy6EiC9lfi2X0cm",
      "include_colab_link": true
    },
    "kernelspec": {
      "name": "python3",
      "display_name": "Python 3"
    },
    "language_info": {
      "name": "python"
    }
  },
  "cells": [
    {
      "cell_type": "markdown",
      "metadata": {
        "id": "view-in-github",
        "colab_type": "text"
      },
      "source": [
        "<a href=\"https://colab.research.google.com/github/shanthivijayan/Python_Code/blob/main/Webscraping_exercise.ipynb\" target=\"_parent\"><img src=\"https://colab.research.google.com/assets/colab-badge.svg\" alt=\"Open In Colab\"/></a>"
      ]
    },
    {
      "cell_type": "code",
      "execution_count": 2,
      "metadata": {
        "id": "9xJNzmHP6pie"
      },
      "outputs": [],
      "source": [
        "from bs4 import BeautifulSoup\n",
        "import requests\n",
        "import pandas\n"
      ]
    },
    {
      "cell_type": "code",
      "source": [],
      "metadata": {
        "id": "DhAYY3up78wo"
      },
      "execution_count": null,
      "outputs": []
    },
    {
      "cell_type": "code",
      "source": [
        "#url=\"file:///C:/Users/shant/Downloads/Test1.html\"\n",
        "\n",
        "#url=\"C:\\Users\\shant\\Downloads\\Test1.html\"\n",
        "#Testdata=requests.get(url).text\n",
        "htmldata=\"<html><head><title>A simple example page</title></head><body><p>Here is some simple content for this page.</p></body></html>\"\n",
        "Urldata=BeautifulSoup(htmldata,\"html.parser\")\n",
        "print(Urldata)\n",
        "print(Urldata.prettify())# used to display the tree structure"
      ],
      "metadata": {
        "colab": {
          "base_uri": "https://localhost:8080/"
        },
        "id": "VECTPtmZ60x-",
        "outputId": "466300cc-e502-496f-96fa-fed6dcbaa4a3"
      },
      "execution_count": 6,
      "outputs": [
        {
          "output_type": "stream",
          "name": "stdout",
          "text": [
            "<html><head><title>A simple example page</title></head><body><p>Here is some simple content for this page.</p></body></html>\n",
            "<html>\n",
            " <head>\n",
            "  <title>\n",
            "   A simple example page\n",
            "  </title>\n",
            " </head>\n",
            " <body>\n",
            "  <p>\n",
            "   Here is some simple content for this page.\n",
            "  </p>\n",
            " </body>\n",
            "</html>\n",
            "\n"
          ]
        }
      ]
    },
    {
      "cell_type": "code",
      "source": [
        "str=\"\"\"<html>\n",
        "\n",
        "<head>\n",
        "\n",
        "<title>A simple example page</title>\n",
        "\n",
        "</head>\n",
        "\n",
        "<body>\n",
        "\n",
        "<p>Here is some simple content for this page.</p>\n",
        "\n",
        "<div class=\"city\">\n",
        "\n",
        "<h2>London</h2>\n",
        "\n",
        "<p>London is the capital of England.</p>\n",
        "\n",
        "</div>\n",
        "\n",
        "<div class=\"country\">\n",
        "\n",
        "<h2>UK and England</h2>\n",
        "\n",
        "<p>England is one country, and the United Kingdom is four countries united together.</p>\n",
        "\n",
        "</div>\n",
        "\n",
        "\"\"\"\n",
        "data=BeautifulSoup(str,\"html.parser\")\n",
        "print(data)\n",
        "print(data.prettify())"
      ],
      "metadata": {
        "colab": {
          "base_uri": "https://localhost:8080/"
        },
        "id": "yaMfx0lCobEE",
        "outputId": "cad9b159-b73d-469c-b480-b5821e6b9330"
      },
      "execution_count": 6,
      "outputs": [
        {
          "output_type": "stream",
          "name": "stdout",
          "text": [
            "<html>\n",
            "<head>\n",
            "<title>A simple example page</title>\n",
            "</head>\n",
            "<body>\n",
            "<p>Here is some simple content for this page.</p>\n",
            "<div class=\"city\">\n",
            "<h2>London</h2>\n",
            "<p>London is the capital of England.</p>\n",
            "</div>\n",
            "<div class=\"country\">\n",
            "<h2>UK and England</h2>\n",
            "<p>England is one country, and the United Kingdom is four countries united together.</p>\n",
            "</div>\n",
            "</body></html>\n",
            "<html>\n",
            " <head>\n",
            "  <title>\n",
            "   A simple example page\n",
            "  </title>\n",
            " </head>\n",
            " <body>\n",
            "  <p>\n",
            "   Here is some simple content for this page.\n",
            "  </p>\n",
            "  <div class=\"city\">\n",
            "   <h2>\n",
            "    London\n",
            "   </h2>\n",
            "   <p>\n",
            "    London is the capital of England.\n",
            "   </p>\n",
            "  </div>\n",
            "  <div class=\"country\">\n",
            "   <h2>\n",
            "    UK and England\n",
            "   </h2>\n",
            "   <p>\n",
            "    England is one country, and the United Kingdom is four countries united together.\n",
            "   </p>\n",
            "  </div>\n",
            " </body>\n",
            "</html>\n",
            "\n"
          ]
        }
      ]
    },
    {
      "cell_type": "code",
      "source": [
        "tag_object=data.title\n",
        "data.h2.text #display first h2 text\n",
        "data.find('div').h2.text"
      ],
      "metadata": {
        "colab": {
          "base_uri": "https://localhost:8080/",
          "height": 36
        },
        "id": "pfuOhmBW9S9e",
        "outputId": "634845af-0fba-4a97-afdd-9f8fecbb7e0f"
      },
      "execution_count": 8,
      "outputs": [
        {
          "output_type": "execute_result",
          "data": {
            "text/plain": [
              "'London'"
            ],
            "application/vnd.google.colaboratory.intrinsic+json": {
              "type": "string"
            }
          },
          "metadata": {},
          "execution_count": 8
        }
      ]
    },
    {
      "cell_type": "code",
      "source": [
        "for i in data.find_all('div'):\n",
        "  t=i.h2.text\n",
        "  print(t)"
      ],
      "metadata": {
        "colab": {
          "base_uri": "https://localhost:8080/"
        },
        "id": "jyntq98HqqsE",
        "outputId": "7498bb68-748f-4963-c449-3d87dfff87f0"
      },
      "execution_count": 9,
      "outputs": [
        {
          "output_type": "stream",
          "name": "stdout",
          "text": [
            "London\n",
            "UK and England\n"
          ]
        }
      ]
    }
  ]
}